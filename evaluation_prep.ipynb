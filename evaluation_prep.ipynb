{
 "cells": [
  {
   "attachments": {},
   "cell_type": "markdown",
   "metadata": {},
   "source": [
    "# Evaluation Prep\n",
    "\n",
    "In an AI competition, participants submit their predictions on the test data, which are automatically evaluated. This notebook summarizes the steps that are required for making all the files used in the evaluation process."
   ]
  },
  {
   "cell_type": "code",
   "execution_count": 2,
   "metadata": {},
   "outputs": [],
   "source": [
    "import os\n",
    "import numpy as np\n",
    "import random\n",
    "import pandas as pd"
   ]
  },
  {
   "attachments": {},
   "cell_type": "markdown",
   "metadata": {},
   "source": [
    "We make 3 different files:\n",
    "\n",
    "* answer.csv - A csv file containing the building location mask for each image in the test dataset. The csv file has 4 columns:\n",
    "    * 'rec_id' - Name of the test .npy file.\n",
    "    * 'prediction' - The sleep stage (W,N1,N2,N3,R).\n",
    "    * 'public' - Boolean value indicating whether the image is part of the public test set or private (hidden) test set.\n",
    "* sample_submission.csv - An example csv file that shows how prediction files should be formatted.\n",
    "    * It has all the same columns as the answer.csv file besides the 'public' column.\n",
    "    * The rows are in the same order as in the answer.csv file.\n",
    "* evaluate.py - Python script that takes the answer.csv file and prediction files rom participants and calculates the final score."
   ]
  },
  {
   "attachments": {},
   "cell_type": "markdown",
   "metadata": {},
   "source": [
    "## answer.csv"
   ]
  },
  {
   "attachments": {},
   "cell_type": "markdown",
   "metadata": {},
   "source": [
    "We begin by loading the 'keydf.csv' file we made before."
   ]
  },
  {
   "cell_type": "code",
   "execution_count": 3,
   "metadata": {},
   "outputs": [
    {
     "data": {
      "text/html": [
       "<div>\n",
       "<style scoped>\n",
       "    .dataframe tbody tr th:only-of-type {\n",
       "        vertical-align: middle;\n",
       "    }\n",
       "\n",
       "    .dataframe tbody tr th {\n",
       "        vertical-align: top;\n",
       "    }\n",
       "\n",
       "    .dataframe thead th {\n",
       "        text-align: right;\n",
       "    }\n",
       "</style>\n",
       "<table border=\"1\" class=\"dataframe\">\n",
       "  <thead>\n",
       "    <tr style=\"text-align: right;\">\n",
       "      <th></th>\n",
       "      <th>file_id</th>\n",
       "      <th>encoded_id</th>\n",
       "      <th>train</th>\n",
       "    </tr>\n",
       "  </thead>\n",
       "  <tbody>\n",
       "    <tr>\n",
       "      <th>0</th>\n",
       "      <td>10_22339_W_0.npy</td>\n",
       "      <td>IsCItLdHYS.npy</td>\n",
       "      <td>True</td>\n",
       "    </tr>\n",
       "    <tr>\n",
       "      <th>1</th>\n",
       "      <td>10_22339_W_1.npy</td>\n",
       "      <td>AROuZa34WB.npy</td>\n",
       "      <td>True</td>\n",
       "    </tr>\n",
       "    <tr>\n",
       "      <th>2</th>\n",
       "      <td>10_22339_W_2.npy</td>\n",
       "      <td>ODJ0HKc0Vq.npy</td>\n",
       "      <td>False</td>\n",
       "    </tr>\n",
       "    <tr>\n",
       "      <th>3</th>\n",
       "      <td>10_22339_W_3.npy</td>\n",
       "      <td>X44xsz9e7A.npy</td>\n",
       "      <td>True</td>\n",
       "    </tr>\n",
       "    <tr>\n",
       "      <th>4</th>\n",
       "      <td>10_22339_W_4.npy</td>\n",
       "      <td>kadoREAeRh.npy</td>\n",
       "      <td>True</td>\n",
       "    </tr>\n",
       "  </tbody>\n",
       "</table>\n",
       "</div>"
      ],
      "text/plain": [
       "            file_id      encoded_id  train\n",
       "0  10_22339_W_0.npy  IsCItLdHYS.npy   True\n",
       "1  10_22339_W_1.npy  AROuZa34WB.npy   True\n",
       "2  10_22339_W_2.npy  ODJ0HKc0Vq.npy  False\n",
       "3  10_22339_W_3.npy  X44xsz9e7A.npy   True\n",
       "4  10_22339_W_4.npy  kadoREAeRh.npy   True"
      ]
     },
     "execution_count": 3,
     "metadata": {},
     "output_type": "execute_result"
    }
   ],
   "source": [
    "keydf = pd.read_csv('/workspace/Competition/PSG/data/final/keydf.csv')\n",
    "keydf.head()"
   ]
  },
  {
   "attachments": {},
   "cell_type": "markdown",
   "metadata": {},
   "source": [
    "The answer file has 3 columns:\n",
    "* 'rec_id' - The encoded id of the test data.\n",
    "* 'stage' - The sleep stage of the corresponding .npy file, which can be extracted from the 'file_id'.\n",
    "* 'public' - A boolean indicating whether or not the particular recording is part of the public test set. 30% of the test set should be public."
   ]
  },
  {
   "cell_type": "code",
   "execution_count": 5,
   "metadata": {},
   "outputs": [],
   "source": [
    "# Get just the test data\n",
    "testdf = keydf[keydf.train==False].reset_index(drop=True)\n",
    "# Extract stages\n",
    "file_ids = list(testdf.file_id)\n",
    "stages = [x.split('_')[2] for x in file_ids]\n",
    "testdf['stage'] = stages\n",
    "# Make and add public column\n",
    "publics = []\n",
    "for i in range(len(testdf)):\n",
    "    s = np.random.uniform(0,1)\n",
    "    if s < 0.3:\n",
    "        publics.append(True)\n",
    "    else:\n",
    "        publics.append(False)\n",
    "testdf['public'] = publics\n",
    "# Drop unused columns\n",
    "answerdf = testdf.drop(['file_id','train'], axis=1)\n",
    "# Change column name\n",
    "answerdf = answerdf.rename(columns={'encoded_id':'rec_id'})"
   ]
  },
  {
   "cell_type": "code",
   "execution_count": 6,
   "metadata": {},
   "outputs": [
    {
     "data": {
      "text/html": [
       "<div>\n",
       "<style scoped>\n",
       "    .dataframe tbody tr th:only-of-type {\n",
       "        vertical-align: middle;\n",
       "    }\n",
       "\n",
       "    .dataframe tbody tr th {\n",
       "        vertical-align: top;\n",
       "    }\n",
       "\n",
       "    .dataframe thead th {\n",
       "        text-align: right;\n",
       "    }\n",
       "</style>\n",
       "<table border=\"1\" class=\"dataframe\">\n",
       "  <thead>\n",
       "    <tr style=\"text-align: right;\">\n",
       "      <th></th>\n",
       "      <th>rec_id</th>\n",
       "      <th>stage</th>\n",
       "      <th>public</th>\n",
       "    </tr>\n",
       "  </thead>\n",
       "  <tbody>\n",
       "    <tr>\n",
       "      <th>0</th>\n",
       "      <td>ODJ0HKc0Vq.npy</td>\n",
       "      <td>W</td>\n",
       "      <td>True</td>\n",
       "    </tr>\n",
       "    <tr>\n",
       "      <th>1</th>\n",
       "      <td>6q78aBibSV.npy</td>\n",
       "      <td>W</td>\n",
       "      <td>False</td>\n",
       "    </tr>\n",
       "    <tr>\n",
       "      <th>2</th>\n",
       "      <td>iTrNBWkgm5.npy</td>\n",
       "      <td>W</td>\n",
       "      <td>False</td>\n",
       "    </tr>\n",
       "    <tr>\n",
       "      <th>3</th>\n",
       "      <td>eDizgkIT6N.npy</td>\n",
       "      <td>W</td>\n",
       "      <td>False</td>\n",
       "    </tr>\n",
       "    <tr>\n",
       "      <th>4</th>\n",
       "      <td>OKql19s74U.npy</td>\n",
       "      <td>W</td>\n",
       "      <td>False</td>\n",
       "    </tr>\n",
       "  </tbody>\n",
       "</table>\n",
       "</div>"
      ],
      "text/plain": [
       "           rec_id stage  public\n",
       "0  ODJ0HKc0Vq.npy     W    True\n",
       "1  6q78aBibSV.npy     W   False\n",
       "2  iTrNBWkgm5.npy     W   False\n",
       "3  eDizgkIT6N.npy     W   False\n",
       "4  OKql19s74U.npy     W   False"
      ]
     },
     "execution_count": 6,
     "metadata": {},
     "output_type": "execute_result"
    }
   ],
   "source": [
    "answerdf.head()"
   ]
  },
  {
   "attachments": {},
   "cell_type": "markdown",
   "metadata": {},
   "source": [
    "Finally, we save the file as 'answer.csv'."
   ]
  },
  {
   "cell_type": "code",
   "execution_count": 7,
   "metadata": {},
   "outputs": [],
   "source": [
    "eval_path = '/workspace/Competition/PSG/evaluate'\n",
    "ans_path = os.path.join(eval_path, 'answer.csv')\n",
    "answerdf.to_csv(ans_path, index=False)"
   ]
  },
  {
   "attachments": {},
   "cell_type": "markdown",
   "metadata": {},
   "source": [
    "## sample_submission.csv\n",
    "\n",
    "The sample_submission.csv, as the name suggests, is a sample of what participant prediction submissions should look like. It must be in the same order as the 'answer.csv' file. It has 2 columns:\n",
    "* 'rec_id' - The encoded id of the test data.\n",
    "* 'stage' - The predicted stage. For the sample submission, we set all the stages to 'W'."
   ]
  },
  {
   "cell_type": "code",
   "execution_count": 8,
   "metadata": {},
   "outputs": [
    {
     "data": {
      "text/html": [
       "<div>\n",
       "<style scoped>\n",
       "    .dataframe tbody tr th:only-of-type {\n",
       "        vertical-align: middle;\n",
       "    }\n",
       "\n",
       "    .dataframe tbody tr th {\n",
       "        vertical-align: top;\n",
       "    }\n",
       "\n",
       "    .dataframe thead th {\n",
       "        text-align: right;\n",
       "    }\n",
       "</style>\n",
       "<table border=\"1\" class=\"dataframe\">\n",
       "  <thead>\n",
       "    <tr style=\"text-align: right;\">\n",
       "      <th></th>\n",
       "      <th>rec_id</th>\n",
       "      <th>stage</th>\n",
       "    </tr>\n",
       "  </thead>\n",
       "  <tbody>\n",
       "    <tr>\n",
       "      <th>0</th>\n",
       "      <td>ODJ0HKc0Vq.npy</td>\n",
       "      <td>W</td>\n",
       "    </tr>\n",
       "    <tr>\n",
       "      <th>1</th>\n",
       "      <td>6q78aBibSV.npy</td>\n",
       "      <td>W</td>\n",
       "    </tr>\n",
       "    <tr>\n",
       "      <th>2</th>\n",
       "      <td>iTrNBWkgm5.npy</td>\n",
       "      <td>W</td>\n",
       "    </tr>\n",
       "    <tr>\n",
       "      <th>3</th>\n",
       "      <td>eDizgkIT6N.npy</td>\n",
       "      <td>W</td>\n",
       "    </tr>\n",
       "    <tr>\n",
       "      <th>4</th>\n",
       "      <td>OKql19s74U.npy</td>\n",
       "      <td>W</td>\n",
       "    </tr>\n",
       "  </tbody>\n",
       "</table>\n",
       "</div>"
      ],
      "text/plain": [
       "           rec_id stage\n",
       "0  ODJ0HKc0Vq.npy     W\n",
       "1  6q78aBibSV.npy     W\n",
       "2  iTrNBWkgm5.npy     W\n",
       "3  eDizgkIT6N.npy     W\n",
       "4  OKql19s74U.npy     W"
      ]
     },
     "execution_count": 8,
     "metadata": {},
     "output_type": "execute_result"
    }
   ],
   "source": [
    "ss = answerdf.copy()\n",
    "ss_stages = list(np.repeat('W',len(answerdf)))\n",
    "ss['stage'] = ss_stages\n",
    "ss = ss.drop(['public'],axis=1)\n",
    "\n",
    "ss.head()"
   ]
  },
  {
   "cell_type": "code",
   "execution_count": 9,
   "metadata": {},
   "outputs": [],
   "source": [
    "sspath = os.path.join(eval_path, 'sample_submission.csv')\n",
    "ss.to_csv(sspath, index=False)"
   ]
  },
  {
   "attachments": {},
   "cell_type": "markdown",
   "metadata": {},
   "source": [
    "## evaluate.py\n",
    "\n",
    "* This script receives takes the 'answer.csv' file and the participant predictions (usually titled prediction.csv) and calculates the score. \n",
    "* For this competition task, the metric is the macro F1 score. \n",
    "* It calculates 3 scores: public, private, final.\n",
    "    * The public score, which is calculated using the public test data (30% of all test data) is shown on the leaderboard before the competition closes.\n",
    "    * The final score, which is calculated using all of the test data is shown on the leaderboard once the competition is over.\n",
    "* The script can be found [here]()."
   ]
  }
 ],
 "metadata": {
  "kernelspec": {
   "display_name": "Python 3 (ipykernel)",
   "language": "python",
   "name": "python3"
  },
  "language_info": {
   "codemirror_mode": {
    "name": "ipython",
    "version": 3
   },
   "file_extension": ".py",
   "mimetype": "text/x-python",
   "name": "python",
   "nbconvert_exporter": "python",
   "pygments_lexer": "ipython3",
   "version": "3.9.13"
  },
  "orig_nbformat": 4
 },
 "nbformat": 4,
 "nbformat_minor": 2
}
