{
 "cells": [
  {
   "cell_type": "code",
   "execution_count": 1,
   "id": "313ab2ec-e493-4af9-bba6-e9440dcd98c4",
   "metadata": {
    "execution": {
     "iopub.execute_input": "2022-08-11T04:59:38.341643Z",
     "iopub.status.busy": "2022-08-11T04:59:38.340553Z",
     "iopub.status.idle": "2022-08-11T04:59:39.131236Z",
     "shell.execute_reply": "2022-08-11T04:59:39.130492Z",
     "shell.execute_reply.started": "2022-08-11T04:59:38.341444Z"
    },
    "tags": []
   },
   "outputs": [],
   "source": [
    "import os\n",
    "import numpy\n",
    "import pandas as pd\n",
    "import mne"
   ]
  },
  {
   "cell_type": "code",
   "execution_count": 2,
   "id": "d95f55bc-a36b-4d01-a16a-801efec6cd94",
   "metadata": {
    "execution": {
     "iopub.execute_input": "2022-08-11T04:59:39.221133Z",
     "iopub.status.busy": "2022-08-11T04:59:39.220154Z",
     "iopub.status.idle": "2022-08-11T04:59:39.228716Z",
     "shell.execute_reply": "2022-08-11T04:59:39.226907Z",
     "shell.execute_reply.started": "2022-08-11T04:59:39.221068Z"
    },
    "tags": []
   },
   "outputs": [],
   "source": [
    "raw_path = '/workspace/Competition/PSG/01_DATA/raw'"
   ]
  },
  {
   "cell_type": "code",
   "execution_count": 3,
   "id": "7bf97102-4c2d-43fb-b81d-062a71e7c2aa",
   "metadata": {
    "execution": {
     "iopub.execute_input": "2022-08-11T04:59:40.160269Z",
     "iopub.status.busy": "2022-08-11T04:59:40.159335Z",
     "iopub.status.idle": "2022-08-11T04:59:40.169290Z",
     "shell.execute_reply": "2022-08-11T04:59:40.167606Z",
     "shell.execute_reply.started": "2022-08-11T04:59:40.160201Z"
    },
    "tags": []
   },
   "outputs": [],
   "source": [
    "raw_files = os.listdir(raw_path)\n",
    "raw_files = [x for x in raw_files if not x.startswith('.')]"
   ]
  },
  {
   "cell_type": "code",
   "execution_count": 7,
   "id": "6bbeb377-9a1d-48bf-a054-c54d6ab26e9d",
   "metadata": {
    "collapsed": true,
    "execution": {
     "iopub.execute_input": "2022-08-09T00:09:20.289604Z",
     "iopub.status.busy": "2022-08-09T00:09:20.288699Z",
     "iopub.status.idle": "2022-08-09T00:09:20.316223Z",
     "shell.execute_reply": "2022-08-09T00:09:20.314781Z",
     "shell.execute_reply.started": "2022-08-09T00:09:20.289538Z"
    },
    "jupyter": {
     "outputs_hidden": true
    },
    "tags": []
   },
   "outputs": [
    {
     "data": {
      "text/plain": [
       "['1_4789.edf',\n",
       " '1_4789.tsv',\n",
       " '10_22339.edf',\n",
       " '10_22339.tsv',\n",
       " '16_24241.edf',\n",
       " '16_24241.tsv',\n",
       " '22_23233.edf',\n",
       " '22_23233.tsv',\n",
       " '25_10579.edf',\n",
       " '25_10579.tsv',\n",
       " '25_18085.edf',\n",
       " '25_18085.tsv',\n",
       " '28_15280.edf',\n",
       " '28_15280.tsv',\n",
       " '31_4429.edf',\n",
       " '31_4429.tsv',\n",
       " '37_14779.edf',\n",
       " '37_14779.tsv',\n",
       " '7_12595.edf',\n",
       " '7_12595.tsv',\n",
       " '40_14503.edf',\n",
       " '40_14503.tsv',\n",
       " '43_175.edf',\n",
       " '43_175.tsv',\n",
       " '46_11305.edf',\n",
       " '46_11305.tsv',\n",
       " '55_6112.edf',\n",
       " '55_6112.tsv',\n",
       " '61_19477.edf',\n",
       " '61_19477.tsv',\n",
       " '64_14908.edf',\n",
       " '64_14908.tsv',\n",
       " '64_25396.edf',\n",
       " '64_25396.tsv',\n",
       " '67_5998.edf',\n",
       " '67_5998.tsv',\n",
       " '70_20743.edf',\n",
       " '70_20743.tsv',\n",
       " '82_20809.edf',\n",
       " '82_20809.tsv',\n",
       " '100_23083.edf',\n",
       " '100_23083.tsv',\n",
       " '103_12325.edf',\n",
       " '103_12325.tsv',\n",
       " '115_22774.edf',\n",
       " '115_22774.tsv',\n",
       " '121_23845.edf',\n",
       " '121_23845.tsv',\n",
       " '127_19126.edf',\n",
       " '127_19126.tsv',\n",
       " '130_5164.edf',\n",
       " '130_5164.tsv',\n",
       " '136_4501.edf',\n",
       " '136_4501.tsv',\n",
       " '91_15028.edf',\n",
       " '91_15028.tsv',\n",
       " '91_18331.edf',\n",
       " '91_18331.tsv',\n",
       " '91_3787.edf',\n",
       " '91_3787.tsv',\n",
       " '139_20275.edf',\n",
       " '139_20275.tsv',\n",
       " '145_1537.edf',\n",
       " '145_1537.tsv',\n",
       " '148_568.edf',\n",
       " '148_568.tsv',\n",
       " '151_23734.edf',\n",
       " '151_23734.tsv',\n",
       " '154_18469.edf',\n",
       " '154_18469.tsv',\n",
       " '157_6391.edf',\n",
       " '157_6391.tsv',\n",
       " '160_11500.edf',\n",
       " '160_11500.tsv',\n",
       " '160_12856.edf',\n",
       " '160_12856.tsv',\n",
       " '160_2740.edf',\n",
       " '160_2740.tsv',\n",
       " '163_20485.edf',\n",
       " '163_20485.tsv',\n",
       " '166_10357.edf',\n",
       " '166_10357.tsv',\n",
       " '181_12274.edf',\n",
       " '181_12274.tsv',\n",
       " '184_2509.edf',\n",
       " '184_2509.tsv',\n",
       " '187_6160.edf',\n",
       " '187_6160.tsv',\n",
       " '190_9877.edf',\n",
       " '190_9877.tsv',\n",
       " '202_13666.edf',\n",
       " '202_13666.tsv',\n",
       " '205_23176.edf',\n",
       " '205_23176.tsv',\n",
       " '211_25741.edf',\n",
       " '211_25741.tsv',\n",
       " '211_8290.edf',\n",
       " '211_8290.tsv',\n",
       " '220_7708.edf',\n",
       " '220_7708.tsv']"
      ]
     },
     "execution_count": 7,
     "metadata": {},
     "output_type": "execute_result"
    }
   ],
   "source": [
    "raw_files"
   ]
  },
  {
   "cell_type": "code",
   "execution_count": 4,
   "id": "04478481-412e-4ef6-9104-fe89a69e6756",
   "metadata": {
    "execution": {
     "iopub.execute_input": "2022-08-11T04:59:41.360960Z",
     "iopub.status.busy": "2022-08-11T04:59:41.360002Z",
     "iopub.status.idle": "2022-08-11T04:59:41.370539Z",
     "shell.execute_reply": "2022-08-11T04:59:41.368851Z",
     "shell.execute_reply.started": "2022-08-11T04:59:41.360892Z"
    },
    "tags": []
   },
   "outputs": [],
   "source": [
    "edf_files = [x for x in raw_files if 'edf' in x]\n",
    "tsv_files = [x for x in raw_files if 'tsv' in x]\n",
    "ids = [x.split('.')[0] for x in raw_files]"
   ]
  },
  {
   "cell_type": "code",
   "execution_count": 9,
   "id": "dc1e6765-2ea6-4d42-baaa-418b049d3ed9",
   "metadata": {
    "collapsed": true,
    "execution": {
     "iopub.execute_input": "2022-08-09T00:09:27.322954Z",
     "iopub.status.busy": "2022-08-09T00:09:27.322118Z",
     "iopub.status.idle": "2022-08-09T00:09:27.335196Z",
     "shell.execute_reply": "2022-08-09T00:09:27.333747Z",
     "shell.execute_reply.started": "2022-08-09T00:09:27.322891Z"
    },
    "jupyter": {
     "outputs_hidden": true
    },
    "tags": []
   },
   "outputs": [
    {
     "data": {
      "text/plain": [
       "['1_4789.edf',\n",
       " '10_22339.edf',\n",
       " '16_24241.edf',\n",
       " '22_23233.edf',\n",
       " '25_10579.edf',\n",
       " '25_18085.edf',\n",
       " '28_15280.edf',\n",
       " '31_4429.edf',\n",
       " '37_14779.edf',\n",
       " '7_12595.edf',\n",
       " '40_14503.edf',\n",
       " '43_175.edf',\n",
       " '46_11305.edf',\n",
       " '55_6112.edf',\n",
       " '61_19477.edf',\n",
       " '64_14908.edf',\n",
       " '64_25396.edf',\n",
       " '67_5998.edf',\n",
       " '70_20743.edf',\n",
       " '82_20809.edf',\n",
       " '100_23083.edf',\n",
       " '103_12325.edf',\n",
       " '115_22774.edf',\n",
       " '121_23845.edf',\n",
       " '127_19126.edf',\n",
       " '130_5164.edf',\n",
       " '136_4501.edf',\n",
       " '91_15028.edf',\n",
       " '91_18331.edf',\n",
       " '91_3787.edf',\n",
       " '139_20275.edf',\n",
       " '145_1537.edf',\n",
       " '148_568.edf',\n",
       " '151_23734.edf',\n",
       " '154_18469.edf',\n",
       " '157_6391.edf',\n",
       " '160_11500.edf',\n",
       " '160_12856.edf',\n",
       " '160_2740.edf',\n",
       " '163_20485.edf',\n",
       " '166_10357.edf',\n",
       " '181_12274.edf',\n",
       " '184_2509.edf',\n",
       " '187_6160.edf',\n",
       " '190_9877.edf',\n",
       " '202_13666.edf',\n",
       " '205_23176.edf',\n",
       " '211_25741.edf',\n",
       " '211_8290.edf',\n",
       " '220_7708.edf']"
      ]
     },
     "execution_count": 9,
     "metadata": {},
     "output_type": "execute_result"
    }
   ],
   "source": [
    "edf_files"
   ]
  },
  {
   "cell_type": "markdown",
   "id": "50889283-4f61-419b-9644-8ce497a9b59f",
   "metadata": {},
   "source": [
    "### Get the channel names for each recording"
   ]
  },
  {
   "cell_type": "code",
   "execution_count": 5,
   "id": "ca1acd53-8623-403c-9eb3-246e5dd2fae6",
   "metadata": {
    "collapsed": true,
    "execution": {
     "iopub.execute_input": "2022-08-11T04:59:44.802133Z",
     "iopub.status.busy": "2022-08-11T04:59:44.801179Z",
     "iopub.status.idle": "2022-08-11T04:59:51.453256Z",
     "shell.execute_reply": "2022-08-11T04:59:51.452083Z",
     "shell.execute_reply.started": "2022-08-11T04:59:44.802063Z"
    },
    "jupyter": {
     "outputs_hidden": true
    },
    "tags": []
   },
   "outputs": [
    {
     "name": "stdout",
     "output_type": "stream",
     "text": [
      "Extracting EDF parameters from /workspace/Competition/PSG/01_DATA/raw/1_4789.edf...\n",
      "EDF file detected\n",
      "Setting channel info structure...\n",
      "Creating raw.info structure...\n",
      "Extracting EDF parameters from /workspace/Competition/PSG/01_DATA/raw/10_22339.edf...\n",
      "EDF file detected\n",
      "Setting channel info structure...\n",
      "Creating raw.info structure...\n",
      "Extracting EDF parameters from /workspace/Competition/PSG/01_DATA/raw/16_24241.edf...\n",
      "EDF file detected\n",
      "Setting channel info structure...\n",
      "Creating raw.info structure...\n",
      "Extracting EDF parameters from /workspace/Competition/PSG/01_DATA/raw/22_23233.edf...\n",
      "EDF file detected\n",
      "Setting channel info structure...\n",
      "Creating raw.info structure...\n",
      "Extracting EDF parameters from /workspace/Competition/PSG/01_DATA/raw/25_10579.edf...\n",
      "EDF file detected\n",
      "Setting channel info structure...\n",
      "Creating raw.info structure...\n",
      "Extracting EDF parameters from /workspace/Competition/PSG/01_DATA/raw/25_18085.edf...\n",
      "EDF file detected\n",
      "Setting channel info structure...\n",
      "Creating raw.info structure...\n",
      "Extracting EDF parameters from /workspace/Competition/PSG/01_DATA/raw/28_15280.edf...\n",
      "EDF file detected\n",
      "Setting channel info structure...\n",
      "Creating raw.info structure...\n",
      "Extracting EDF parameters from /workspace/Competition/PSG/01_DATA/raw/31_4429.edf...\n",
      "EDF file detected\n",
      "Setting channel info structure...\n",
      "Creating raw.info structure...\n",
      "Extracting EDF parameters from /workspace/Competition/PSG/01_DATA/raw/37_14779.edf...\n",
      "EDF file detected\n",
      "Setting channel info structure...\n",
      "Creating raw.info structure...\n",
      "Extracting EDF parameters from /workspace/Competition/PSG/01_DATA/raw/7_12595.edf...\n",
      "EDF file detected\n",
      "Setting channel info structure...\n",
      "Creating raw.info structure...\n",
      "Extracting EDF parameters from /workspace/Competition/PSG/01_DATA/raw/40_14503.edf...\n",
      "EDF file detected\n",
      "Setting channel info structure...\n",
      "Creating raw.info structure...\n",
      "Extracting EDF parameters from /workspace/Competition/PSG/01_DATA/raw/43_175.edf...\n",
      "EDF file detected\n",
      "Setting channel info structure...\n",
      "Creating raw.info structure...\n",
      "Extracting EDF parameters from /workspace/Competition/PSG/01_DATA/raw/46_11305.edf...\n",
      "EDF file detected\n",
      "Setting channel info structure...\n",
      "Creating raw.info structure...\n",
      "Extracting EDF parameters from /workspace/Competition/PSG/01_DATA/raw/55_6112.edf...\n",
      "EDF file detected\n",
      "Setting channel info structure...\n",
      "Creating raw.info structure...\n",
      "Extracting EDF parameters from /workspace/Competition/PSG/01_DATA/raw/61_19477.edf...\n",
      "EDF file detected\n",
      "Setting channel info structure...\n",
      "Creating raw.info structure...\n",
      "Extracting EDF parameters from /workspace/Competition/PSG/01_DATA/raw/64_14908.edf...\n",
      "EDF file detected\n",
      "Setting channel info structure...\n",
      "Creating raw.info structure...\n",
      "Extracting EDF parameters from /workspace/Competition/PSG/01_DATA/raw/64_25396.edf...\n",
      "EDF file detected\n",
      "Setting channel info structure...\n",
      "Creating raw.info structure...\n",
      "Extracting EDF parameters from /workspace/Competition/PSG/01_DATA/raw/67_5998.edf...\n",
      "EDF file detected\n",
      "Setting channel info structure...\n",
      "Creating raw.info structure...\n",
      "Extracting EDF parameters from /workspace/Competition/PSG/01_DATA/raw/70_20743.edf...\n",
      "EDF file detected\n",
      "Setting channel info structure...\n",
      "Creating raw.info structure...\n",
      "Extracting EDF parameters from /workspace/Competition/PSG/01_DATA/raw/82_20809.edf...\n",
      "EDF file detected\n",
      "Setting channel info structure...\n",
      "Creating raw.info structure...\n",
      "Extracting EDF parameters from /workspace/Competition/PSG/01_DATA/raw/100_23083.edf...\n",
      "EDF file detected\n",
      "Setting channel info structure...\n",
      "Creating raw.info structure...\n",
      "Extracting EDF parameters from /workspace/Competition/PSG/01_DATA/raw/103_12325.edf...\n",
      "EDF file detected\n",
      "Setting channel info structure...\n",
      "Creating raw.info structure...\n",
      "Extracting EDF parameters from /workspace/Competition/PSG/01_DATA/raw/115_22774.edf...\n",
      "EDF file detected\n",
      "Setting channel info structure...\n",
      "Creating raw.info structure...\n",
      "Extracting EDF parameters from /workspace/Competition/PSG/01_DATA/raw/121_23845.edf...\n",
      "EDF file detected\n",
      "Setting channel info structure...\n",
      "Creating raw.info structure...\n",
      "Extracting EDF parameters from /workspace/Competition/PSG/01_DATA/raw/127_19126.edf...\n",
      "EDF file detected\n",
      "Setting channel info structure...\n",
      "Creating raw.info structure...\n",
      "Extracting EDF parameters from /workspace/Competition/PSG/01_DATA/raw/130_5164.edf...\n",
      "EDF file detected\n",
      "Setting channel info structure...\n",
      "Creating raw.info structure...\n",
      "Extracting EDF parameters from /workspace/Competition/PSG/01_DATA/raw/136_4501.edf...\n",
      "EDF file detected\n",
      "Setting channel info structure...\n",
      "Creating raw.info structure...\n",
      "Extracting EDF parameters from /workspace/Competition/PSG/01_DATA/raw/91_15028.edf...\n",
      "EDF file detected\n",
      "Setting channel info structure...\n",
      "Creating raw.info structure...\n",
      "Extracting EDF parameters from /workspace/Competition/PSG/01_DATA/raw/91_18331.edf...\n",
      "EDF file detected\n",
      "Setting channel info structure...\n",
      "Creating raw.info structure...\n",
      "Extracting EDF parameters from /workspace/Competition/PSG/01_DATA/raw/91_3787.edf...\n",
      "EDF file detected\n",
      "Setting channel info structure...\n",
      "Creating raw.info structure...\n",
      "Extracting EDF parameters from /workspace/Competition/PSG/01_DATA/raw/139_20275.edf...\n",
      "EDF file detected\n",
      "Setting channel info structure...\n",
      "Creating raw.info structure...\n",
      "Extracting EDF parameters from /workspace/Competition/PSG/01_DATA/raw/145_1537.edf...\n",
      "EDF file detected\n",
      "Setting channel info structure...\n",
      "Creating raw.info structure...\n",
      "Extracting EDF parameters from /workspace/Competition/PSG/01_DATA/raw/148_568.edf...\n",
      "EDF file detected\n",
      "Setting channel info structure...\n",
      "Creating raw.info structure...\n",
      "Extracting EDF parameters from /workspace/Competition/PSG/01_DATA/raw/151_23734.edf...\n",
      "EDF file detected\n",
      "Setting channel info structure...\n",
      "Creating raw.info structure...\n",
      "Extracting EDF parameters from /workspace/Competition/PSG/01_DATA/raw/154_18469.edf...\n",
      "EDF file detected\n",
      "Setting channel info structure...\n",
      "Creating raw.info structure...\n",
      "Extracting EDF parameters from /workspace/Competition/PSG/01_DATA/raw/157_6391.edf...\n",
      "EDF file detected\n",
      "Setting channel info structure...\n",
      "Creating raw.info structure...\n",
      "Extracting EDF parameters from /workspace/Competition/PSG/01_DATA/raw/160_11500.edf...\n",
      "EDF file detected\n",
      "Setting channel info structure...\n",
      "Creating raw.info structure...\n",
      "Extracting EDF parameters from /workspace/Competition/PSG/01_DATA/raw/160_12856.edf...\n",
      "EDF file detected\n",
      "Setting channel info structure...\n",
      "Creating raw.info structure...\n",
      "Extracting EDF parameters from /workspace/Competition/PSG/01_DATA/raw/160_2740.edf...\n",
      "EDF file detected\n",
      "Setting channel info structure...\n",
      "Creating raw.info structure...\n",
      "Extracting EDF parameters from /workspace/Competition/PSG/01_DATA/raw/163_20485.edf...\n",
      "EDF file detected\n",
      "Setting channel info structure...\n",
      "Creating raw.info structure...\n",
      "Extracting EDF parameters from /workspace/Competition/PSG/01_DATA/raw/166_10357.edf...\n",
      "EDF file detected\n",
      "Setting channel info structure...\n",
      "Creating raw.info structure...\n",
      "Extracting EDF parameters from /workspace/Competition/PSG/01_DATA/raw/181_12274.edf...\n",
      "EDF file detected\n",
      "Setting channel info structure...\n",
      "Creating raw.info structure...\n",
      "Extracting EDF parameters from /workspace/Competition/PSG/01_DATA/raw/184_2509.edf...\n",
      "EDF file detected\n",
      "Setting channel info structure...\n",
      "Creating raw.info structure...\n",
      "Extracting EDF parameters from /workspace/Competition/PSG/01_DATA/raw/187_6160.edf...\n",
      "EDF file detected\n",
      "Setting channel info structure...\n",
      "Creating raw.info structure...\n",
      "Extracting EDF parameters from /workspace/Competition/PSG/01_DATA/raw/190_9877.edf...\n",
      "EDF file detected\n",
      "Setting channel info structure...\n",
      "Creating raw.info structure...\n",
      "Extracting EDF parameters from /workspace/Competition/PSG/01_DATA/raw/202_13666.edf...\n",
      "EDF file detected\n",
      "Setting channel info structure...\n",
      "Creating raw.info structure...\n",
      "Extracting EDF parameters from /workspace/Competition/PSG/01_DATA/raw/205_23176.edf...\n",
      "EDF file detected\n",
      "Setting channel info structure...\n",
      "Creating raw.info structure...\n",
      "Extracting EDF parameters from /workspace/Competition/PSG/01_DATA/raw/211_25741.edf...\n",
      "EDF file detected\n",
      "Setting channel info structure...\n",
      "Creating raw.info structure...\n",
      "Extracting EDF parameters from /workspace/Competition/PSG/01_DATA/raw/211_8290.edf...\n",
      "EDF file detected\n",
      "Setting channel info structure...\n",
      "Creating raw.info structure...\n",
      "Extracting EDF parameters from /workspace/Competition/PSG/01_DATA/raw/220_7708.edf...\n",
      "EDF file detected\n",
      "Setting channel info structure...\n",
      "Creating raw.info structure...\n",
      "Extracting EDF parameters from /workspace/Competition/PSG/01_DATA/raw/322_14533.edf...\n",
      "EDF file detected\n",
      "Setting channel info structure...\n",
      "Creating raw.info structure...\n",
      "Extracting EDF parameters from /workspace/Competition/PSG/01_DATA/raw/325_13378.edf...\n",
      "EDF file detected\n",
      "Setting channel info structure...\n",
      "Creating raw.info structure...\n",
      "Extracting EDF parameters from /workspace/Competition/PSG/01_DATA/raw/328_2530.edf...\n",
      "EDF file detected\n",
      "Setting channel info structure...\n",
      "Creating raw.info structure...\n",
      "Extracting EDF parameters from /workspace/Competition/PSG/01_DATA/raw/358_24568.edf...\n",
      "EDF file detected\n",
      "Setting channel info structure...\n",
      "Creating raw.info structure...\n",
      "Extracting EDF parameters from /workspace/Competition/PSG/01_DATA/raw/367_24214.edf...\n",
      "EDF file detected\n",
      "Setting channel info structure...\n",
      "Creating raw.info structure...\n",
      "Extracting EDF parameters from /workspace/Competition/PSG/01_DATA/raw/373_17665.edf...\n",
      "EDF file detected\n",
      "Setting channel info structure...\n",
      "Creating raw.info structure...\n",
      "Extracting EDF parameters from /workspace/Competition/PSG/01_DATA/raw/376_20152.edf...\n",
      "EDF file detected\n",
      "Setting channel info structure...\n",
      "Creating raw.info structure...\n",
      "Extracting EDF parameters from /workspace/Competition/PSG/01_DATA/raw/376_6718.edf...\n",
      "EDF file detected\n",
      "Setting channel info structure...\n",
      "Creating raw.info structure...\n",
      "Extracting EDF parameters from /workspace/Competition/PSG/01_DATA/raw/385_25570.edf...\n",
      "EDF file detected\n",
      "Setting channel info structure...\n",
      "Creating raw.info structure...\n",
      "Extracting EDF parameters from /workspace/Competition/PSG/01_DATA/raw/394_19279.edf...\n",
      "EDF file detected\n",
      "Setting channel info structure...\n",
      "Creating raw.info structure...\n",
      "Extracting EDF parameters from /workspace/Competition/PSG/01_DATA/raw/421_6037.edf...\n",
      "EDF file detected\n",
      "Setting channel info structure...\n",
      "Creating raw.info structure...\n",
      "Extracting EDF parameters from /workspace/Competition/PSG/01_DATA/raw/424_3154.edf...\n",
      "EDF file detected\n",
      "Setting channel info structure...\n",
      "Creating raw.info structure...\n",
      "Extracting EDF parameters from /workspace/Competition/PSG/01_DATA/raw/433_10945.edf...\n",
      "EDF file detected\n",
      "Setting channel info structure...\n",
      "Creating raw.info structure...\n",
      "Extracting EDF parameters from /workspace/Competition/PSG/01_DATA/raw/436_5221.edf...\n",
      "EDF file detected\n",
      "Setting channel info structure...\n",
      "Creating raw.info structure...\n",
      "Extracting EDF parameters from /workspace/Competition/PSG/01_DATA/raw/439_4798.edf...\n",
      "EDF file detected\n",
      "Setting channel info structure...\n",
      "Creating raw.info structure...\n",
      "Extracting EDF parameters from /workspace/Competition/PSG/01_DATA/raw/445_15253.edf...\n",
      "EDF file detected\n",
      "Setting channel info structure...\n",
      "Creating raw.info structure...\n",
      "Extracting EDF parameters from /workspace/Competition/PSG/01_DATA/raw/448_11908.edf...\n",
      "EDF file detected\n",
      "Setting channel info structure...\n",
      "Creating raw.info structure...\n",
      "Extracting EDF parameters from /workspace/Competition/PSG/01_DATA/raw/451_4321.edf...\n",
      "EDF file detected\n",
      "Setting channel info structure...\n",
      "Creating raw.info structure...\n",
      "Extracting EDF parameters from /workspace/Competition/PSG/01_DATA/raw/460_25018.edf...\n",
      "EDF file detected\n",
      "Setting channel info structure...\n",
      "Creating raw.info structure...\n",
      "Extracting EDF parameters from /workspace/Competition/PSG/01_DATA/raw/463_19780.edf...\n",
      "EDF file detected\n",
      "Setting channel info structure...\n",
      "Creating raw.info structure...\n",
      "Extracting EDF parameters from /workspace/Competition/PSG/01_DATA/raw/472_4960.edf...\n",
      "EDF file detected\n",
      "Setting channel info structure...\n",
      "Creating raw.info structure...\n",
      "Extracting EDF parameters from /workspace/Competition/PSG/01_DATA/raw/475_9724.edf...\n",
      "EDF file detected\n",
      "Setting channel info structure...\n",
      "Creating raw.info structure...\n",
      "Extracting EDF parameters from /workspace/Competition/PSG/01_DATA/raw/481_10591.edf...\n",
      "EDF file detected\n",
      "Setting channel info structure...\n",
      "Creating raw.info structure...\n",
      "Extracting EDF parameters from /workspace/Competition/PSG/01_DATA/raw/484_18199.edf...\n",
      "EDF file detected\n",
      "Setting channel info structure...\n",
      "Creating raw.info structure...\n",
      "Extracting EDF parameters from /workspace/Competition/PSG/01_DATA/raw/484_23473.edf...\n",
      "EDF file detected\n",
      "Setting channel info structure...\n",
      "Creating raw.info structure...\n",
      "Extracting EDF parameters from /workspace/Competition/PSG/01_DATA/raw/484_24694.edf...\n",
      "EDF file detected\n",
      "Setting channel info structure...\n",
      "Creating raw.info structure...\n",
      "Extracting EDF parameters from /workspace/Competition/PSG/01_DATA/raw/487_5353.edf...\n",
      "EDF file detected\n",
      "Setting channel info structure...\n",
      "Creating raw.info structure...\n",
      "Extracting EDF parameters from /workspace/Competition/PSG/01_DATA/raw/490_24361.edf...\n",
      "EDF file detected\n",
      "Setting channel info structure...\n",
      "Creating raw.info structure...\n",
      "Extracting EDF parameters from /workspace/Competition/PSG/01_DATA/raw/493_23947.edf...\n",
      "EDF file detected\n",
      "Setting channel info structure...\n",
      "Creating raw.info structure...\n",
      "Extracting EDF parameters from /workspace/Competition/PSG/01_DATA/raw/496_16459.edf...\n",
      "EDF file detected\n",
      "Setting channel info structure...\n",
      "Creating raw.info structure...\n",
      "Extracting EDF parameters from /workspace/Competition/PSG/01_DATA/raw/502_8749.edf...\n",
      "EDF file detected\n",
      "Setting channel info structure...\n",
      "Creating raw.info structure...\n",
      "Extracting EDF parameters from /workspace/Competition/PSG/01_DATA/raw/505_21037.edf...\n",
      "EDF file detected\n",
      "Setting channel info structure...\n",
      "Creating raw.info structure...\n",
      "Extracting EDF parameters from /workspace/Competition/PSG/01_DATA/raw/274_18571.edf...\n",
      "EDF file detected\n",
      "Setting channel info structure...\n",
      "Creating raw.info structure...\n",
      "Extracting EDF parameters from /workspace/Competition/PSG/01_DATA/raw/277_22828.edf...\n",
      "EDF file detected\n",
      "Setting channel info structure...\n",
      "Creating raw.info structure...\n",
      "Extracting EDF parameters from /workspace/Competition/PSG/01_DATA/raw/283_24196.edf...\n",
      "EDF file detected\n",
      "Setting channel info structure...\n",
      "Creating raw.info structure...\n",
      "Extracting EDF parameters from /workspace/Competition/PSG/01_DATA/raw/289_8692.edf...\n",
      "EDF file detected\n",
      "Setting channel info structure...\n",
      "Creating raw.info structure...\n",
      "Extracting EDF parameters from /workspace/Competition/PSG/01_DATA/raw/292_24565.edf...\n",
      "EDF file detected\n",
      "Setting channel info structure...\n",
      "Creating raw.info structure...\n",
      "Extracting EDF parameters from /workspace/Competition/PSG/01_DATA/raw/301_13825.edf...\n",
      "EDF file detected\n",
      "Setting channel info structure...\n",
      "Creating raw.info structure...\n",
      "Extracting EDF parameters from /workspace/Competition/PSG/01_DATA/raw/304_4408.edf...\n",
      "EDF file detected\n",
      "Setting channel info structure...\n",
      "Creating raw.info structure...\n",
      "Extracting EDF parameters from /workspace/Competition/PSG/01_DATA/raw/307_24025.edf...\n",
      "EDF file detected\n",
      "Setting channel info structure...\n",
      "Creating raw.info structure...\n",
      "Extracting EDF parameters from /workspace/Competition/PSG/01_DATA/raw/310_1561.edf...\n",
      "EDF file detected\n",
      "Setting channel info structure...\n",
      "Creating raw.info structure...\n",
      "Extracting EDF parameters from /workspace/Competition/PSG/01_DATA/raw/310_20791.edf...\n",
      "EDF file detected\n",
      "Setting channel info structure...\n",
      "Creating raw.info structure...\n"
     ]
    }
   ],
   "source": [
    "ch_per_rec = {}\n",
    "\n",
    "for edf in edf_files:\n",
    "    ch_per_rec[edf] = []\n",
    "    edfpath = os.path.join(raw_path, edf)\n",
    "    rawedf = mne.io.read_raw_edf(edfpath)\n",
    "    ch_per_rec[edf] = rawedf.ch_names"
   ]
  },
  {
   "cell_type": "code",
   "execution_count": 7,
   "id": "2e5b7de4-9fc6-4bd2-9504-dff6130b684d",
   "metadata": {
    "execution": {
     "iopub.execute_input": "2022-08-11T05:00:06.167070Z",
     "iopub.status.busy": "2022-08-11T05:00:06.166057Z",
     "iopub.status.idle": "2022-08-11T05:00:06.191112Z",
     "shell.execute_reply": "2022-08-11T05:00:06.189891Z",
     "shell.execute_reply.started": "2022-08-11T05:00:06.167004Z"
    },
    "tags": []
   },
   "outputs": [
    {
     "data": {
      "text/plain": [
       "['Patient Event',\n",
       " 'EOG LOC-M2',\n",
       " 'EOG ROC-M1',\n",
       " 'EMG Chin1-Chin2',\n",
       " 'EEG F3-M2',\n",
       " 'EEG F4-M1',\n",
       " 'EEG C3-M2',\n",
       " 'EEG C4-M1',\n",
       " 'EEG O1-M2',\n",
       " 'EEG O2-M1',\n",
       " 'EEG CZ-O1',\n",
       " 'EMG LLeg-RLeg',\n",
       " 'ECG EKG2-EKG',\n",
       " 'Snore',\n",
       " 'Resp PTAF',\n",
       " 'Resp Airflow',\n",
       " 'Resp Thoracic',\n",
       " 'Resp Abdominal',\n",
       " 'SpO2',\n",
       " 'Rate',\n",
       " 'EtCO2',\n",
       " 'Capno',\n",
       " 'Resp Rate',\n",
       " 'C-flow',\n",
       " 'Tidal Vol',\n",
       " 'Pressure']"
      ]
     },
     "execution_count": 7,
     "metadata": {},
     "output_type": "execute_result"
    }
   ],
   "source": [
    "ch_per_rec[edf_files[0]]"
   ]
  },
  {
   "cell_type": "markdown",
   "id": "449f9fb8-c749-48fa-9e7d-897a769132cd",
   "metadata": {
    "execution": {
     "iopub.execute_input": "2022-08-09T00:28:33.700527Z",
     "iopub.status.busy": "2022-08-09T00:28:33.699143Z",
     "iopub.status.idle": "2022-08-09T00:28:33.740777Z",
     "shell.execute_reply": "2022-08-09T00:28:33.739882Z",
     "shell.execute_reply.started": "2022-08-09T00:28:33.700371Z"
    },
    "jupyter": {
     "outputs_hidden": true
    },
    "tags": []
   },
   "source": [
    "#### Extract just the EEG channels"
   ]
  },
  {
   "cell_type": "code",
   "execution_count": 49,
   "id": "897228b0-0946-4254-a918-c046bebdd4ae",
   "metadata": {
    "execution": {
     "iopub.execute_input": "2022-08-09T02:13:55.214283Z",
     "iopub.status.busy": "2022-08-09T02:13:55.212971Z",
     "iopub.status.idle": "2022-08-09T02:13:55.226233Z",
     "shell.execute_reply": "2022-08-09T02:13:55.224277Z",
     "shell.execute_reply.started": "2022-08-09T02:13:55.214208Z"
    },
    "tags": []
   },
   "outputs": [],
   "source": [
    "eeg_per_rec = {}\n",
    "for key in ch_per_rec:\n",
    "    eeg_per_rec[key] = []\n",
    "    channels = ch_per_rec[key]\n",
    "    eeg_ch = [x for x in channels if 'EEG' in x]\n",
    "    eeg_per_rec[key] = eeg_ch"
   ]
  },
  {
   "cell_type": "code",
   "execution_count": 26,
   "id": "ba678b26-34ae-40e1-b404-f0118e8c7219",
   "metadata": {
    "collapsed": true,
    "execution": {
     "iopub.execute_input": "2022-08-09T01:14:13.577254Z",
     "iopub.status.busy": "2022-08-09T01:14:13.576325Z",
     "iopub.status.idle": "2022-08-09T01:14:13.605527Z",
     "shell.execute_reply": "2022-08-09T01:14:13.603341Z",
     "shell.execute_reply.started": "2022-08-09T01:14:13.577187Z"
    },
    "jupyter": {
     "outputs_hidden": true
    },
    "tags": []
   },
   "outputs": [
    {
     "data": {
      "text/plain": [
       "{'1_4789.edf': ['EEG F3-M2',\n",
       "  'EEG F4-M1',\n",
       "  'EEG C3-M2',\n",
       "  'EEG C4-M1',\n",
       "  'EEG O1-M2',\n",
       "  'EEG O2-M1',\n",
       "  'EEG CZ-O1'],\n",
       " '10_22339.edf': ['EEG F3-M2',\n",
       "  'EEG F4-M1',\n",
       "  'EEG C3-M2',\n",
       "  'EEG C4-M1',\n",
       "  'EEG O1-M2',\n",
       "  'EEG O2-M1',\n",
       "  'EEG CZ-O1'],\n",
       " '16_24241.edf': ['EEG F3-M2',\n",
       "  'EEG F4-M1',\n",
       "  'EEG C3-M2',\n",
       "  'EEG C4-M1',\n",
       "  'EEG O1-M2',\n",
       "  'EEG O2-M1',\n",
       "  'EEG CZ-O1'],\n",
       " '22_23233.edf': ['EEG F3-M2',\n",
       "  'EEG F4-M1',\n",
       "  'EEG C3-M2',\n",
       "  'EEG C4-M1',\n",
       "  'EEG O1-M2',\n",
       "  'EEG O2-M1',\n",
       "  'EEG CZ-O1'],\n",
       " '25_10579.edf': ['EEG F3-M2',\n",
       "  'EEG F4-M1',\n",
       "  'EEG C3-M2',\n",
       "  'EEG C4-M1',\n",
       "  'EEG O1-M2',\n",
       "  'EEG O2-M1',\n",
       "  'EEG CZ-O1'],\n",
       " '25_18085.edf': ['EEG F3-M2',\n",
       "  'EEG F4-M1',\n",
       "  'EEG C3-M2',\n",
       "  'EEG C4-M1',\n",
       "  'EEG O1-M2',\n",
       "  'EEG O2-M1',\n",
       "  'EEG CZ-O1'],\n",
       " '28_15280.edf': ['EEG F3-M2',\n",
       "  'EEG F4-M1',\n",
       "  'EEG C3-M2',\n",
       "  'EEG C4-M1',\n",
       "  'EEG O1-M2',\n",
       "  'EEG O2-M1',\n",
       "  'EEG CZ-O1'],\n",
       " '31_4429.edf': ['EEG F3-M2',\n",
       "  'EEG F4-M1',\n",
       "  'EEG C3-M2',\n",
       "  'EEG C4-M1',\n",
       "  'EEG O1-M2',\n",
       "  'EEG O2-M1',\n",
       "  'EEG CZ-O1'],\n",
       " '37_14779.edf': ['EEG F3-M2',\n",
       "  'EEG F4-M1',\n",
       "  'EEG C3-M2',\n",
       "  'EEG C4-M1',\n",
       "  'EEG O1-M2',\n",
       "  'EEG O2-M1',\n",
       "  'EEG CZ-O1'],\n",
       " '7_12595.edf': ['EEG F3-M2',\n",
       "  'EEG F4-M1',\n",
       "  'EEG C3-M2',\n",
       "  'EEG C4-M1',\n",
       "  'EEG O1-M2',\n",
       "  'EEG O2-M1',\n",
       "  'EEG CZ-O1'],\n",
       " '40_14503.edf': ['EEG F3-M2',\n",
       "  'EEG F4-M1',\n",
       "  'EEG C3-M2',\n",
       "  'EEG C4-M1',\n",
       "  'EEG O1-M2',\n",
       "  'EEG O2-M1',\n",
       "  'EEG CZ-O1'],\n",
       " '43_175.edf': ['EEG F3-M2',\n",
       "  'EEG F4-M1',\n",
       "  'EEG C3-M2',\n",
       "  'EEG C4-M1',\n",
       "  'EEG O1-M2',\n",
       "  'EEG O2-M1',\n",
       "  'EEG CZ-O1'],\n",
       " '46_11305.edf': ['EEG F3-M2',\n",
       "  'EEG F4-M1',\n",
       "  'EEG C3-M2',\n",
       "  'EEG C4-M1',\n",
       "  'EEG O1-M2',\n",
       "  'EEG O2-M1',\n",
       "  'EEG CZ-O1'],\n",
       " '55_6112.edf': ['EEG F3-M2',\n",
       "  'EEG F4-M1',\n",
       "  'EEG C3-M2',\n",
       "  'EEG C4-M1',\n",
       "  'EEG O1-M2',\n",
       "  'EEG O2-M1',\n",
       "  'EEG CZ-O1'],\n",
       " '61_19477.edf': ['EEG F3-M2',\n",
       "  'EEG F4-M1',\n",
       "  'EEG C3-M2',\n",
       "  'EEG C4-M1',\n",
       "  'EEG O1-M2',\n",
       "  'EEG O2-M1',\n",
       "  'EEG CZ-O1'],\n",
       " '64_14908.edf': ['EEG F3-M2',\n",
       "  'EEG F4-M1',\n",
       "  'EEG C3-M2',\n",
       "  'EEG C4-M1',\n",
       "  'EEG O1-M2',\n",
       "  'EEG O2-M1',\n",
       "  'EEG CZ-O1'],\n",
       " '64_25396.edf': ['EEG F3-M2',\n",
       "  'EEG F4-M1',\n",
       "  'EEG C3-M2',\n",
       "  'EEG C4-M1',\n",
       "  'EEG O1-M2',\n",
       "  'EEG O2-M1',\n",
       "  'EEG CZ-O1'],\n",
       " '67_5998.edf': ['EEG F3-M2',\n",
       "  'EEG F4-M1',\n",
       "  'EEG C3-M2',\n",
       "  'EEG C4-M1',\n",
       "  'EEG O1-M2',\n",
       "  'EEG O2-M1',\n",
       "  'EEG CZ-O1'],\n",
       " '70_20743.edf': ['EEG F3-M2',\n",
       "  'EEG F4-M1',\n",
       "  'EEG C3-M2',\n",
       "  'EEG C4-M1',\n",
       "  'EEG O1-M2',\n",
       "  'EEG O2-M1',\n",
       "  'EEG CZ-O1'],\n",
       " '82_20809.edf': ['EEG F3-M2',\n",
       "  'EEG F4-M1',\n",
       "  'EEG C3-M2',\n",
       "  'EEG C4-M1',\n",
       "  'EEG O1-M2',\n",
       "  'EEG O2-M1',\n",
       "  'EEG CZ-O1'],\n",
       " '100_23083.edf': ['EEG F3-M2',\n",
       "  'EEG F4-M1',\n",
       "  'EEG C3-M2',\n",
       "  'EEG C4-M1',\n",
       "  'EEG O1-M2',\n",
       "  'EEG O2-M1',\n",
       "  'EEG CZ-O1'],\n",
       " '103_12325.edf': ['EEG F3-M2',\n",
       "  'EEG F4-M1',\n",
       "  'EEG C3-M2',\n",
       "  'EEG C4-M1',\n",
       "  'EEG O1-M2',\n",
       "  'EEG O2-M1',\n",
       "  'EEG CZ-O1'],\n",
       " '115_22774.edf': ['EEG F3-M2',\n",
       "  'EEG F4-M1',\n",
       "  'EEG C3-M2',\n",
       "  'EEG C4-M1',\n",
       "  'EEG O1-M2',\n",
       "  'EEG O2-M1',\n",
       "  'EEG CZ-O1'],\n",
       " '121_23845.edf': ['EEG F3-M2',\n",
       "  'EEG F4-M1',\n",
       "  'EEG C3-M2',\n",
       "  'EEG C4-M1',\n",
       "  'EEG O1-M2',\n",
       "  'EEG O2-M1',\n",
       "  'EEG CZ-O1'],\n",
       " '127_19126.edf': ['EEG F3-M2',\n",
       "  'EEG F4-M1',\n",
       "  'EEG C3-M2',\n",
       "  'EEG C4-M1',\n",
       "  'EEG O1-M2',\n",
       "  'EEG O2-M1',\n",
       "  'EEG CZ-O1'],\n",
       " '130_5164.edf': ['EEG F3-M2',\n",
       "  'EEG F4-M1',\n",
       "  'EEG C3-M2',\n",
       "  'EEG C4-M1',\n",
       "  'EEG O1-M2',\n",
       "  'EEG O2-M1',\n",
       "  'EEG CZ-O1'],\n",
       " '136_4501.edf': ['EEG F3-M2',\n",
       "  'EEG F4-M1',\n",
       "  'EEG C3-M2',\n",
       "  'EEG C4-M1',\n",
       "  'EEG O1-M2',\n",
       "  'EEG O2-M1',\n",
       "  'EEG CZ-O1'],\n",
       " '91_15028.edf': ['EEG F3-M2',\n",
       "  'EEG F4-M1',\n",
       "  'EEG C3-M2',\n",
       "  'EEG C4-M1',\n",
       "  'EEG O1-M2',\n",
       "  'EEG O2-M1',\n",
       "  'EEG CZ-O1'],\n",
       " '91_18331.edf': ['EEG F3-M2',\n",
       "  'EEG F4-M1',\n",
       "  'EEG C3-M2',\n",
       "  'EEG C4-M1',\n",
       "  'EEG O1-M2',\n",
       "  'EEG O2-M1',\n",
       "  'EEG CZ-O1'],\n",
       " '91_3787.edf': ['EEG F3-M2',\n",
       "  'EEG F4-M1',\n",
       "  'EEG C3-M2',\n",
       "  'EEG C4-M1',\n",
       "  'EEG O1-M2',\n",
       "  'EEG O2-M1',\n",
       "  'EEG CZ-O1'],\n",
       " '139_20275.edf': ['EEG F3-M2',\n",
       "  'EEG F4-M1',\n",
       "  'EEG C3-M2',\n",
       "  'EEG C4-M1',\n",
       "  'EEG O1-M2',\n",
       "  'EEG O2-M1',\n",
       "  'EEG CZ-O1'],\n",
       " '145_1537.edf': ['EEG F3-M2',\n",
       "  'EEG F4-M1',\n",
       "  'EEG C3-M2',\n",
       "  'EEG C4-M1',\n",
       "  'EEG O1-M2',\n",
       "  'EEG O2-M1',\n",
       "  'EEG CZ-O1'],\n",
       " '148_568.edf': ['EEG F3-M2',\n",
       "  'EEG F4-M1',\n",
       "  'EEG C3-M2',\n",
       "  'EEG C4-M1',\n",
       "  'EEG O1-M2',\n",
       "  'EEG O2-M1',\n",
       "  'EEG CZ-O1'],\n",
       " '151_23734.edf': ['EEG F3-M2',\n",
       "  'EEG F4-M1',\n",
       "  'EEG C3-M2',\n",
       "  'EEG C4-M1',\n",
       "  'EEG O1-M2',\n",
       "  'EEG O2-M1',\n",
       "  'EEG CZ-O1'],\n",
       " '154_18469.edf': ['EEG F3-M2',\n",
       "  'EEG F4-M1',\n",
       "  'EEG C3-M2',\n",
       "  'EEG C4-M1',\n",
       "  'EEG O1-M2',\n",
       "  'EEG O2-M1',\n",
       "  'EEG CZ-O1'],\n",
       " '157_6391.edf': ['EEG F3-M2',\n",
       "  'EEG F4-M1',\n",
       "  'EEG C3-M2',\n",
       "  'EEG C4-M1',\n",
       "  'EEG O1-M2',\n",
       "  'EEG O2-M1',\n",
       "  'EEG CZ-O1'],\n",
       " '160_11500.edf': ['EEG F3-M2',\n",
       "  'EEG F4-M1',\n",
       "  'EEG C3-M2',\n",
       "  'EEG C4-M1',\n",
       "  'EEG O1-M2',\n",
       "  'EEG O2-M1',\n",
       "  'EEG CZ-O1'],\n",
       " '160_12856.edf': ['EEG F3-M2',\n",
       "  'EEG F4-M1',\n",
       "  'EEG C3-M2',\n",
       "  'EEG C4-M1',\n",
       "  'EEG O1-M2',\n",
       "  'EEG O2-M1',\n",
       "  'EEG CZ-O1'],\n",
       " '160_2740.edf': ['EEG F3-M2',\n",
       "  'EEG F4-M1',\n",
       "  'EEG C3-M2',\n",
       "  'EEG C4-M1',\n",
       "  'EEG O1-M2',\n",
       "  'EEG O2-M1',\n",
       "  'EEG CZ-O1'],\n",
       " '163_20485.edf': ['EEG F3-M2',\n",
       "  'EEG F4-M1',\n",
       "  'EEG C3-M2',\n",
       "  'EEG C4-M1',\n",
       "  'EEG O1-M2',\n",
       "  'EEG O2-M1',\n",
       "  'EEG CZ-O1'],\n",
       " '166_10357.edf': ['EEG F3-M2',\n",
       "  'EEG F4-M1',\n",
       "  'EEG C3-M2',\n",
       "  'EEG C4-M1',\n",
       "  'EEG O1-M2',\n",
       "  'EEG O2-M1',\n",
       "  'EEG CZ-O1'],\n",
       " '181_12274.edf': ['EEG F3-M2',\n",
       "  'EEG F4-M1',\n",
       "  'EEG C3-M2',\n",
       "  'EEG C4-M1',\n",
       "  'EEG O1-M2',\n",
       "  'EEG O2-M1',\n",
       "  'EEG CZ-O1'],\n",
       " '184_2509.edf': ['EEG F3-M2',\n",
       "  'EEG F4-M1',\n",
       "  'EEG C3-M2',\n",
       "  'EEG C4-M1',\n",
       "  'EEG O1-M2',\n",
       "  'EEG O2-M1',\n",
       "  'EEG CZ-O1'],\n",
       " '187_6160.edf': ['EEG F3-M2',\n",
       "  'EEG F4-M1',\n",
       "  'EEG C3-M2',\n",
       "  'EEG C4-M1',\n",
       "  'EEG O1-M2',\n",
       "  'EEG O2-M1',\n",
       "  'EEG CZ-O1'],\n",
       " '190_9877.edf': ['EEG CHIN3-CHIN2',\n",
       "  'EEG F3-M2',\n",
       "  'EEG F4-M1',\n",
       "  'EEG C3-M2',\n",
       "  'EEG C4-M1',\n",
       "  'EEG O1-M2',\n",
       "  'EEG O2-M1',\n",
       "  'EEG CZ-O1'],\n",
       " '202_13666.edf': ['EEG F3-M2',\n",
       "  'EEG F4-M1',\n",
       "  'EEG C3-M2',\n",
       "  'EEG C4-M1',\n",
       "  'EEG O1-M2',\n",
       "  'EEG O2-M1',\n",
       "  'EEG CZ-O1'],\n",
       " '205_23176.edf': ['EEG F3-M2',\n",
       "  'EEG F4-M1',\n",
       "  'EEG C3-M2',\n",
       "  'EEG C4-M1',\n",
       "  'EEG O1-M2',\n",
       "  'EEG O2-M1',\n",
       "  'EEG CZ-O1'],\n",
       " '211_25741.edf': ['EEG F3-M2',\n",
       "  'EEG F4-M1',\n",
       "  'EEG C3-M2',\n",
       "  'EEG C4-M1',\n",
       "  'EEG O1-M2',\n",
       "  'EEG O2-M1',\n",
       "  'EEG CZ-O1'],\n",
       " '211_8290.edf': ['EEG F3-M2',\n",
       "  'EEG F4-M1',\n",
       "  'EEG C3-M2',\n",
       "  'EEG C4-M1',\n",
       "  'EEG O1-M2',\n",
       "  'EEG O2-M1',\n",
       "  'EEG CZ-O1'],\n",
       " '220_7708.edf': ['EEG F3-M2',\n",
       "  'EEG F4-M1',\n",
       "  'EEG C3-M2',\n",
       "  'EEG C4-M1',\n",
       "  'EEG O1-M2',\n",
       "  'EEG O2-M1',\n",
       "  'EEG CZ-O1']}"
      ]
     },
     "execution_count": 26,
     "metadata": {},
     "output_type": "execute_result"
    }
   ],
   "source": [
    "eeg_per_rec"
   ]
  },
  {
   "cell_type": "markdown",
   "id": "9ac1ccb7-c828-49c3-a151-4f2d21173b05",
   "metadata": {},
   "source": [
    "**Need to extract common channels**"
   ]
  },
  {
   "cell_type": "code",
   "execution_count": 38,
   "id": "821b0b4e-7177-4819-b3a1-50fbed01890c",
   "metadata": {
    "execution": {
     "iopub.execute_input": "2022-08-09T01:40:31.044783Z",
     "iopub.status.busy": "2022-08-09T01:40:31.043608Z",
     "iopub.status.idle": "2022-08-09T01:40:31.053977Z",
     "shell.execute_reply": "2022-08-09T01:40:31.051988Z",
     "shell.execute_reply.started": "2022-08-09T01:40:31.044705Z"
    },
    "tags": []
   },
   "outputs": [],
   "source": [
    "master_channels = eeg_per_rec[edf_files[0]]\n",
    "master_channels.sort()"
   ]
  },
  {
   "cell_type": "code",
   "execution_count": 39,
   "id": "b526ba4a-1af7-49e0-8626-1c5bad387e06",
   "metadata": {
    "execution": {
     "iopub.execute_input": "2022-08-09T01:40:31.751548Z",
     "iopub.status.busy": "2022-08-09T01:40:31.750694Z",
     "iopub.status.idle": "2022-08-09T01:40:31.762709Z",
     "shell.execute_reply": "2022-08-09T01:40:31.761046Z",
     "shell.execute_reply.started": "2022-08-09T01:40:31.751485Z"
    },
    "tags": []
   },
   "outputs": [
    {
     "data": {
      "text/plain": [
       "['EEG C3-M2',\n",
       " 'EEG C4-M1',\n",
       " 'EEG CZ-O1',\n",
       " 'EEG F3-M2',\n",
       " 'EEG F4-M1',\n",
       " 'EEG O1-M2',\n",
       " 'EEG O2-M1']"
      ]
     },
     "execution_count": 39,
     "metadata": {},
     "output_type": "execute_result"
    }
   ],
   "source": [
    "master_channels"
   ]
  },
  {
   "cell_type": "code",
   "execution_count": 58,
   "id": "a87e4e3c-6a65-405d-8fb0-67db8f3ee2b4",
   "metadata": {
    "execution": {
     "iopub.execute_input": "2022-08-09T02:25:50.338671Z",
     "iopub.status.busy": "2022-08-09T02:25:50.337636Z",
     "iopub.status.idle": "2022-08-09T02:25:50.349530Z",
     "shell.execute_reply": "2022-08-09T02:25:50.347587Z",
     "shell.execute_reply.started": "2022-08-09T02:25:50.338600Z"
    },
    "tags": []
   },
   "outputs": [],
   "source": [
    "eeg_per_rec_upper = {}\n",
    "\n",
    "for key in eeg_per_rec:\n",
    "    channel_upper = []\n",
    "    cur_channels = eeg_per_rec[key]\n",
    "    for x in cur_channels:\n",
    "        channel_upper.append(x.upper())\n",
    "    eeg_per_rec_upper[key] = channel_upper\n",
    "    "
   ]
  },
  {
   "cell_type": "code",
   "execution_count": 59,
   "id": "4c0d0195-7a58-44cb-a96d-c503314b4c0a",
   "metadata": {
    "execution": {
     "iopub.execute_input": "2022-08-09T02:26:14.987847Z",
     "iopub.status.busy": "2022-08-09T02:26:14.986721Z",
     "iopub.status.idle": "2022-08-09T02:26:14.999676Z",
     "shell.execute_reply": "2022-08-09T02:26:14.997521Z",
     "shell.execute_reply.started": "2022-08-09T02:26:14.987770Z"
    },
    "tags": []
   },
   "outputs": [],
   "source": [
    "contains_master = {}\n",
    "\n",
    "for key in eeg_per_rec_upper:\n",
    "    contains_master[key] = []\n",
    "    cur_channels = eeg_per_rec_upper[key]\n",
    "    if all(elem in cur_channels for elem in master_channels):\n",
    "        contains_master[key].append(True)\n",
    "    "
   ]
  },
  {
   "cell_type": "code",
   "execution_count": 60,
   "id": "b626260f-3373-4e9e-ac1e-dfd8d104239c",
   "metadata": {
    "execution": {
     "iopub.execute_input": "2022-08-09T02:26:17.809886Z",
     "iopub.status.busy": "2022-08-09T02:26:17.808856Z",
     "iopub.status.idle": "2022-08-09T02:26:17.826915Z",
     "shell.execute_reply": "2022-08-09T02:26:17.824887Z",
     "shell.execute_reply.started": "2022-08-09T02:26:17.809812Z"
    },
    "tags": []
   },
   "outputs": [
    {
     "data": {
      "text/plain": [
       "{'1_4789.edf': [True],\n",
       " '10_22339.edf': [True],\n",
       " '16_24241.edf': [True],\n",
       " '22_23233.edf': [True],\n",
       " '25_10579.edf': [True],\n",
       " '25_18085.edf': [True],\n",
       " '28_15280.edf': [True],\n",
       " '31_4429.edf': [True],\n",
       " '37_14779.edf': [True],\n",
       " '7_12595.edf': [True],\n",
       " '40_14503.edf': [True],\n",
       " '43_175.edf': [True],\n",
       " '46_11305.edf': [True],\n",
       " '55_6112.edf': [True],\n",
       " '61_19477.edf': [True],\n",
       " '64_14908.edf': [True],\n",
       " '64_25396.edf': [True],\n",
       " '67_5998.edf': [True],\n",
       " '70_20743.edf': [True],\n",
       " '82_20809.edf': [True],\n",
       " '100_23083.edf': [True],\n",
       " '103_12325.edf': [True],\n",
       " '115_22774.edf': [True],\n",
       " '121_23845.edf': [True],\n",
       " '127_19126.edf': [True],\n",
       " '130_5164.edf': [True],\n",
       " '136_4501.edf': [True],\n",
       " '91_15028.edf': [True],\n",
       " '91_18331.edf': [True],\n",
       " '91_3787.edf': [True],\n",
       " '139_20275.edf': [True],\n",
       " '145_1537.edf': [True],\n",
       " '148_568.edf': [True],\n",
       " '151_23734.edf': [True],\n",
       " '154_18469.edf': [True],\n",
       " '157_6391.edf': [True],\n",
       " '160_11500.edf': [True],\n",
       " '160_12856.edf': [True],\n",
       " '160_2740.edf': [True],\n",
       " '163_20485.edf': [True],\n",
       " '166_10357.edf': [True],\n",
       " '181_12274.edf': [True],\n",
       " '184_2509.edf': [True],\n",
       " '187_6160.edf': [True],\n",
       " '190_9877.edf': [True],\n",
       " '202_13666.edf': [True],\n",
       " '205_23176.edf': [True],\n",
       " '211_25741.edf': [True],\n",
       " '211_8290.edf': [True],\n",
       " '220_7708.edf': [True]}"
      ]
     },
     "execution_count": 60,
     "metadata": {},
     "output_type": "execute_result"
    }
   ],
   "source": [
    "contains_master"
   ]
  },
  {
   "cell_type": "markdown",
   "id": "e2a58b25-8571-4fd3-b321-e2f3d7bf2ee4",
   "metadata": {},
   "source": [
    "### Actually extracting the EEG data"
   ]
  },
  {
   "cell_type": "markdown",
   "id": "5f39df9e-0b48-4102-95b4-47b6102e0ff9",
   "metadata": {},
   "source": [
    "**Trial with 1 recording**"
   ]
  },
  {
   "cell_type": "code",
   "execution_count": 45,
   "id": "f7cef170-3177-48d7-803e-1805f2b6cb5c",
   "metadata": {
    "execution": {
     "iopub.execute_input": "2022-08-09T02:00:52.941941Z",
     "iopub.status.busy": "2022-08-09T02:00:52.940818Z",
     "iopub.status.idle": "2022-08-09T02:00:52.951645Z",
     "shell.execute_reply": "2022-08-09T02:00:52.949673Z",
     "shell.execute_reply.started": "2022-08-09T02:00:52.941869Z"
    },
    "tags": []
   },
   "outputs": [],
   "source": [
    "test_rec\n",
    "edfpath = os.path.join(raw_path, test_rec)"
   ]
  },
  {
   "cell_type": "code",
   "execution_count": 46,
   "id": "2335aa18-5aef-44a0-9cf1-a0a9c2701d80",
   "metadata": {
    "execution": {
     "iopub.execute_input": "2022-08-09T02:00:54.971604Z",
     "iopub.status.busy": "2022-08-09T02:00:54.970584Z",
     "iopub.status.idle": "2022-08-09T02:00:55.084834Z",
     "shell.execute_reply": "2022-08-09T02:00:55.083501Z",
     "shell.execute_reply.started": "2022-08-09T02:00:54.971534Z"
    },
    "tags": []
   },
   "outputs": [
    {
     "name": "stdout",
     "output_type": "stream",
     "text": [
      "Extracting EDF parameters from /workspace/Competition/PSG/01_DATA/raw/1_4789.edf...\n",
      "EDF file detected\n",
      "Setting channel info structure...\n",
      "Creating raw.info structure...\n"
     ]
    }
   ],
   "source": [
    "rawedf = mne.io.read_raw_edf(edfpath)"
   ]
  },
  {
   "cell_type": "code",
   "execution_count": 62,
   "id": "85f149a4-eb30-47da-8afb-b0cfd8434419",
   "metadata": {
    "execution": {
     "iopub.execute_input": "2022-08-09T02:27:04.662026Z",
     "iopub.status.busy": "2022-08-09T02:27:04.660783Z",
     "iopub.status.idle": "2022-08-09T02:27:05.544496Z",
     "shell.execute_reply": "2022-08-09T02:27:05.543672Z",
     "shell.execute_reply.started": "2022-08-09T02:27:04.661955Z"
    },
    "tags": []
   },
   "outputs": [
    {
     "data": {
      "text/plain": [
       "((1, 8877056), (8877056,))"
      ]
     },
     "execution_count": 62,
     "metadata": {},
     "output_type": "execute_result"
    }
   ],
   "source": [
    "rawedf['EEG C3-M2'][0].shape, rawedf['EEG C3-M2'][1].shape"
   ]
  },
  {
   "cell_type": "code",
   "execution_count": 63,
   "id": "b3e70bc6-4012-45d6-b76f-6cfaea2bd1d7",
   "metadata": {
    "execution": {
     "iopub.execute_input": "2022-08-09T02:27:29.550034Z",
     "iopub.status.busy": "2022-08-09T02:27:29.548879Z",
     "iopub.status.idle": "2022-08-09T02:27:29.997933Z",
     "shell.execute_reply": "2022-08-09T02:27:29.996655Z",
     "shell.execute_reply.started": "2022-08-09T02:27:29.549962Z"
    },
    "tags": []
   },
   "outputs": [],
   "source": [
    "times = rawedf['EEG C3-M2'][1]"
   ]
  },
  {
   "cell_type": "code",
   "execution_count": 64,
   "id": "38435b0a-2952-4e60-97b2-760db2139b4c",
   "metadata": {
    "execution": {
     "iopub.execute_input": "2022-08-09T02:27:31.450631Z",
     "iopub.status.busy": "2022-08-09T02:27:31.449550Z",
     "iopub.status.idle": "2022-08-09T02:27:31.462990Z",
     "shell.execute_reply": "2022-08-09T02:27:31.461413Z",
     "shell.execute_reply.started": "2022-08-09T02:27:31.450558Z"
    },
    "tags": []
   },
   "outputs": [
    {
     "data": {
      "text/plain": [
       "array([0.00000000e+00, 3.90625000e-03, 7.81250000e-03, ...,\n",
       "       3.46759883e+04, 3.46759922e+04, 3.46759961e+04])"
      ]
     },
     "execution_count": 64,
     "metadata": {},
     "output_type": "execute_result"
    }
   ],
   "source": [
    "times"
   ]
  },
  {
   "cell_type": "code",
   "execution_count": 66,
   "id": "ff2fe5ab-9fb9-4ba3-80f5-bce36e178165",
   "metadata": {
    "execution": {
     "iopub.execute_input": "2022-08-09T02:28:06.016848Z",
     "iopub.status.busy": "2022-08-09T02:28:06.015647Z",
     "iopub.status.idle": "2022-08-09T02:28:06.031173Z",
     "shell.execute_reply": "2022-08-09T02:28:06.029556Z",
     "shell.execute_reply.started": "2022-08-09T02:28:06.016776Z"
    },
    "tags": []
   },
   "outputs": [
    {
     "data": {
      "text/plain": [
       "(0.00390625, 0.00390625, 0.00390625, 0.00390625)"
      ]
     },
     "execution_count": 66,
     "metadata": {},
     "output_type": "execute_result"
    }
   ],
   "source": [
    "times[1]-times[0], times[2]-times[1], times[3]-times[2], times[-1]-times[-2]"
   ]
  },
  {
   "cell_type": "raw",
   "id": "6a0dcd05-b26a-459b-b92f-70e1fbbb82ad",
   "metadata": {},
   "source": []
  },
  {
   "cell_type": "code",
   "execution_count": 75,
   "id": "4c321b61-2532-4eb5-9039-c7956ef93890",
   "metadata": {
    "execution": {
     "iopub.execute_input": "2022-08-09T02:44:33.657411Z",
     "iopub.status.busy": "2022-08-09T02:44:33.656234Z",
     "iopub.status.idle": "2022-08-09T02:44:36.486511Z",
     "shell.execute_reply": "2022-08-09T02:44:36.484724Z",
     "shell.execute_reply.started": "2022-08-09T02:44:33.657339Z"
    },
    "tags": []
   },
   "outputs": [],
   "source": [
    "raw_eegs = []\n",
    "\n",
    "for eeg in eeg_per_rec[test_rec]:\n",
    "    if eeg.upper() in master_channels:\n",
    "        raw_eegs.append(rawedf[eeg][0])"
   ]
  },
  {
   "cell_type": "code",
   "execution_count": 81,
   "id": "8c5cc034-3bbd-40d3-b13d-91a8aa759866",
   "metadata": {
    "execution": {
     "iopub.execute_input": "2022-08-09T02:45:40.706746Z",
     "iopub.status.busy": "2022-08-09T02:45:40.705672Z",
     "iopub.status.idle": "2022-08-09T02:45:40.715646Z",
     "shell.execute_reply": "2022-08-09T02:45:40.713329Z",
     "shell.execute_reply.started": "2022-08-09T02:45:40.706675Z"
    },
    "tags": []
   },
   "outputs": [],
   "source": [
    "import numpy as np"
   ]
  },
  {
   "cell_type": "code",
   "execution_count": 83,
   "id": "a2af8248-cedd-438a-b554-2b2646c563d7",
   "metadata": {
    "execution": {
     "iopub.execute_input": "2022-08-09T02:45:47.143073Z",
     "iopub.status.busy": "2022-08-09T02:45:47.142056Z",
     "iopub.status.idle": "2022-08-09T02:45:47.526741Z",
     "shell.execute_reply": "2022-08-09T02:45:47.525669Z",
     "shell.execute_reply.started": "2022-08-09T02:45:47.143008Z"
    },
    "tags": []
   },
   "outputs": [],
   "source": [
    "a = np.concatenate(raw_eegs, axis=0)"
   ]
  },
  {
   "cell_type": "code",
   "execution_count": 84,
   "id": "2218feab-f8e1-4263-8737-4b8c97a49e0b",
   "metadata": {
    "execution": {
     "iopub.execute_input": "2022-08-09T02:45:49.637300Z",
     "iopub.status.busy": "2022-08-09T02:45:49.636229Z",
     "iopub.status.idle": "2022-08-09T02:45:49.649227Z",
     "shell.execute_reply": "2022-08-09T02:45:49.647386Z",
     "shell.execute_reply.started": "2022-08-09T02:45:49.637233Z"
    },
    "tags": []
   },
   "outputs": [
    {
     "data": {
      "text/plain": [
       "(7, 8877056)"
      ]
     },
     "execution_count": 84,
     "metadata": {},
     "output_type": "execute_result"
    }
   ],
   "source": [
    "a.shape"
   ]
  },
  {
   "cell_type": "code",
   "execution_count": 93,
   "id": "c8f5f649-4f08-4fff-9b5d-f3ead308ad31",
   "metadata": {
    "execution": {
     "iopub.execute_input": "2022-08-09T05:40:53.185144Z",
     "iopub.status.busy": "2022-08-09T05:40:53.184037Z",
     "iopub.status.idle": "2022-08-09T05:40:53.197711Z",
     "shell.execute_reply": "2022-08-09T05:40:53.196024Z",
     "shell.execute_reply.started": "2022-08-09T05:40:53.185072Z"
    },
    "tags": []
   },
   "outputs": [
    {
     "data": {
      "text/plain": [
       "['EEG C3-M2',\n",
       " 'EEG C4-M1',\n",
       " 'EEG CZ-O1',\n",
       " 'EEG F3-M2',\n",
       " 'EEG F4-M1',\n",
       " 'EEG O1-M2',\n",
       " 'EEG O2-M1']"
      ]
     },
     "execution_count": 93,
     "metadata": {},
     "output_type": "execute_result"
    }
   ],
   "source": [
    "master_channels.sort()\n",
    "master_channels"
   ]
  },
  {
   "cell_type": "code",
   "execution_count": 105,
   "id": "20a680b4-87b9-4e36-9b28-6a972086b166",
   "metadata": {
    "execution": {
     "iopub.execute_input": "2022-08-09T06:45:12.196564Z",
     "iopub.status.busy": "2022-08-09T06:45:12.195349Z",
     "iopub.status.idle": "2022-08-09T06:45:12.218901Z",
     "shell.execute_reply": "2022-08-09T06:45:12.217780Z",
     "shell.execute_reply.started": "2022-08-09T06:45:12.196476Z"
    },
    "tags": []
   },
   "outputs": [],
   "source": [
    "from tqdm import tqdm"
   ]
  },
  {
   "cell_type": "code",
   "execution_count": 108,
   "id": "3a69f773-a341-4bd7-9b0a-647e8aabce20",
   "metadata": {
    "collapsed": true,
    "execution": {
     "iopub.execute_input": "2022-08-09T06:47:17.524255Z",
     "iopub.status.busy": "2022-08-09T06:47:17.522857Z",
     "iopub.status.idle": "2022-08-09T06:52:19.019912Z",
     "shell.execute_reply": "2022-08-09T06:52:19.018210Z",
     "shell.execute_reply.started": "2022-08-09T06:47:17.524117Z"
    },
    "jupyter": {
     "outputs_hidden": true
    },
    "tags": []
   },
   "outputs": [
    {
     "name": "stderr",
     "output_type": "stream",
     "text": [
      "  0%|          | 0/50 [00:00<?, ?it/s]"
     ]
    },
    {
     "name": "stdout",
     "output_type": "stream",
     "text": [
      "Extracting EDF parameters from /workspace/Competition/PSG/01_DATA/raw/1_4789.edf...\n",
      "EDF file detected\n",
      "Setting channel info structure...\n",
      "Creating raw.info structure...\n"
     ]
    },
    {
     "name": "stderr",
     "output_type": "stream",
     "text": [
      "  2%|▏         | 1/50 [00:03<03:05,  3.79s/it]"
     ]
    },
    {
     "name": "stdout",
     "output_type": "stream",
     "text": [
      "(7, 8877056)\n",
      "Extracting EDF parameters from /workspace/Competition/PSG/01_DATA/raw/10_22339.edf...\n",
      "EDF file detected\n",
      "Setting channel info structure...\n",
      "Creating raw.info structure...\n"
     ]
    },
    {
     "name": "stderr",
     "output_type": "stream",
     "text": [
      "  4%|▍         | 2/50 [00:08<03:24,  4.26s/it]"
     ]
    },
    {
     "name": "stdout",
     "output_type": "stream",
     "text": [
      "(7, 10380288)\n",
      "Extracting EDF parameters from /workspace/Competition/PSG/01_DATA/raw/16_24241.edf...\n",
      "EDF file detected\n",
      "Setting channel info structure...\n",
      "Creating raw.info structure...\n"
     ]
    },
    {
     "name": "stderr",
     "output_type": "stream",
     "text": [
      "  6%|▌         | 3/50 [00:12<03:20,  4.26s/it]"
     ]
    },
    {
     "name": "stdout",
     "output_type": "stream",
     "text": [
      "(7, 9289728)\n",
      "Extracting EDF parameters from /workspace/Competition/PSG/01_DATA/raw/22_23233.edf...\n",
      "EDF file detected\n",
      "Setting channel info structure...\n",
      "Creating raw.info structure...\n"
     ]
    },
    {
     "name": "stderr",
     "output_type": "stream",
     "text": [
      "  8%|▊         | 4/50 [00:18<03:47,  4.94s/it]"
     ]
    },
    {
     "name": "stdout",
     "output_type": "stream",
     "text": [
      "(7, 10840064)\n",
      "Extracting EDF parameters from /workspace/Competition/PSG/01_DATA/raw/25_10579.edf...\n",
      "EDF file detected\n",
      "Setting channel info structure...\n",
      "Creating raw.info structure...\n"
     ]
    },
    {
     "name": "stderr",
     "output_type": "stream",
     "text": [
      " 10%|█         | 5/50 [00:23<03:45,  5.01s/it]"
     ]
    },
    {
     "name": "stdout",
     "output_type": "stream",
     "text": [
      "(7, 9606144)\n",
      "Extracting EDF parameters from /workspace/Competition/PSG/01_DATA/raw/25_18085.edf...\n",
      "EDF file detected\n",
      "Setting channel info structure...\n",
      "Creating raw.info structure...\n"
     ]
    },
    {
     "name": "stderr",
     "output_type": "stream",
     "text": [
      " 12%|█▏        | 6/50 [00:29<03:54,  5.32s/it]"
     ]
    },
    {
     "name": "stdout",
     "output_type": "stream",
     "text": [
      "(7, 11868160)\n",
      "Extracting EDF parameters from /workspace/Competition/PSG/01_DATA/raw/28_15280.edf...\n",
      "EDF file detected\n",
      "Setting channel info structure...\n",
      "Creating raw.info structure...\n"
     ]
    },
    {
     "name": "stderr",
     "output_type": "stream",
     "text": [
      " 14%|█▍        | 7/50 [00:34<03:47,  5.29s/it]"
     ]
    },
    {
     "name": "stdout",
     "output_type": "stream",
     "text": [
      "(7, 9850880)\n",
      "Extracting EDF parameters from /workspace/Competition/PSG/01_DATA/raw/31_4429.edf...\n",
      "EDF file detected\n",
      "Setting channel info structure...\n",
      "Creating raw.info structure...\n"
     ]
    },
    {
     "name": "stderr",
     "output_type": "stream",
     "text": [
      " 16%|█▌        | 8/50 [00:40<03:43,  5.32s/it]"
     ]
    },
    {
     "name": "stdout",
     "output_type": "stream",
     "text": [
      "(7, 10334208)\n",
      "Extracting EDF parameters from /workspace/Competition/PSG/01_DATA/raw/37_14779.edf...\n",
      "EDF file detected\n",
      "Setting channel info structure...\n",
      "Creating raw.info structure...\n"
     ]
    },
    {
     "name": "stderr",
     "output_type": "stream",
     "text": [
      " 18%|█▊        | 9/50 [00:44<03:28,  5.10s/it]"
     ]
    },
    {
     "name": "stdout",
     "output_type": "stream",
     "text": [
      "(7, 9176064)\n",
      "Extracting EDF parameters from /workspace/Competition/PSG/01_DATA/raw/7_12595.edf...\n",
      "EDF file detected\n",
      "Setting channel info structure...\n",
      "Creating raw.info structure...\n"
     ]
    },
    {
     "name": "stderr",
     "output_type": "stream",
     "text": [
      " 20%|██        | 10/50 [00:50<03:25,  5.14s/it]"
     ]
    },
    {
     "name": "stdout",
     "output_type": "stream",
     "text": [
      "(7, 10491904)\n",
      "Extracting EDF parameters from /workspace/Competition/PSG/01_DATA/raw/40_14503.edf...\n",
      "EDF file detected\n",
      "Setting channel info structure...\n",
      "Creating raw.info structure...\n"
     ]
    },
    {
     "name": "stderr",
     "output_type": "stream",
     "text": [
      " 22%|██▏       | 11/50 [00:55<03:25,  5.26s/it]"
     ]
    },
    {
     "name": "stdout",
     "output_type": "stream",
     "text": [
      "(7, 10403840)\n",
      "Extracting EDF parameters from /workspace/Competition/PSG/01_DATA/raw/43_175.edf...\n",
      "EDF file detected\n",
      "Setting channel info structure...\n",
      "Creating raw.info structure...\n"
     ]
    },
    {
     "name": "stderr",
     "output_type": "stream",
     "text": [
      " 24%|██▍       | 12/50 [01:01<03:24,  5.38s/it]"
     ]
    },
    {
     "name": "stdout",
     "output_type": "stream",
     "text": [
      "(7, 9094144)\n",
      "Extracting EDF parameters from /workspace/Competition/PSG/01_DATA/raw/46_11305.edf...\n",
      "EDF file detected\n",
      "Setting channel info structure...\n",
      "Creating raw.info structure...\n"
     ]
    },
    {
     "name": "stderr",
     "output_type": "stream",
     "text": [
      " 26%|██▌       | 13/50 [01:07<03:29,  5.66s/it]"
     ]
    },
    {
     "name": "stdout",
     "output_type": "stream",
     "text": [
      "(7, 9515008)\n",
      "Extracting EDF parameters from /workspace/Competition/PSG/01_DATA/raw/55_6112.edf...\n",
      "EDF file detected\n",
      "Setting channel info structure...\n",
      "Creating raw.info structure...\n"
     ]
    },
    {
     "name": "stderr",
     "output_type": "stream",
     "text": [
      " 28%|██▊       | 14/50 [01:13<03:23,  5.65s/it]"
     ]
    },
    {
     "name": "stdout",
     "output_type": "stream",
     "text": [
      "(7, 8647680)\n",
      "Extracting EDF parameters from /workspace/Competition/PSG/01_DATA/raw/61_19477.edf...\n",
      "EDF file detected\n",
      "Setting channel info structure...\n",
      "Creating raw.info structure...\n"
     ]
    },
    {
     "name": "stderr",
     "output_type": "stream",
     "text": [
      " 30%|███       | 15/50 [01:21<03:43,  6.40s/it]"
     ]
    },
    {
     "name": "stdout",
     "output_type": "stream",
     "text": [
      "(7, 11357184)\n",
      "Extracting EDF parameters from /workspace/Competition/PSG/01_DATA/raw/64_14908.edf...\n",
      "EDF file detected\n",
      "Setting channel info structure...\n",
      "Creating raw.info structure...\n"
     ]
    },
    {
     "name": "stderr",
     "output_type": "stream",
     "text": [
      " 32%|███▏      | 16/50 [01:27<03:30,  6.19s/it]"
     ]
    },
    {
     "name": "stdout",
     "output_type": "stream",
     "text": [
      "(7, 8119296)\n",
      "Extracting EDF parameters from /workspace/Competition/PSG/01_DATA/raw/64_25396.edf...\n",
      "EDF file detected\n",
      "Setting channel info structure...\n",
      "Creating raw.info structure...\n"
     ]
    },
    {
     "name": "stderr",
     "output_type": "stream",
     "text": [
      " 34%|███▍      | 17/50 [01:31<03:08,  5.72s/it]"
     ]
    },
    {
     "name": "stdout",
     "output_type": "stream",
     "text": [
      "(7, 9543680)\n",
      "Extracting EDF parameters from /workspace/Competition/PSG/01_DATA/raw/67_5998.edf...\n",
      "EDF file detected\n",
      "Setting channel info structure...\n",
      "Creating raw.info structure...\n"
     ]
    },
    {
     "name": "stderr",
     "output_type": "stream",
     "text": [
      " 36%|███▌      | 18/50 [01:36<02:55,  5.49s/it]"
     ]
    },
    {
     "name": "stdout",
     "output_type": "stream",
     "text": [
      "(7, 10309632)\n",
      "Extracting EDF parameters from /workspace/Competition/PSG/01_DATA/raw/70_20743.edf...\n",
      "EDF file detected\n",
      "Setting channel info structure...\n",
      "Creating raw.info structure...\n"
     ]
    },
    {
     "name": "stderr",
     "output_type": "stream",
     "text": [
      " 38%|███▊      | 19/50 [01:41<02:42,  5.23s/it]"
     ]
    },
    {
     "name": "stdout",
     "output_type": "stream",
     "text": [
      "(7, 9376768)\n",
      "Extracting EDF parameters from /workspace/Competition/PSG/01_DATA/raw/82_20809.edf...\n",
      "EDF file detected\n",
      "Setting channel info structure...\n",
      "Creating raw.info structure...\n"
     ]
    },
    {
     "name": "stderr",
     "output_type": "stream",
     "text": [
      " 40%|████      | 20/50 [01:48<02:55,  5.84s/it]"
     ]
    },
    {
     "name": "stdout",
     "output_type": "stream",
     "text": [
      "(7, 8415232)\n",
      "Extracting EDF parameters from /workspace/Competition/PSG/01_DATA/raw/100_23083.edf...\n",
      "EDF file detected\n",
      "Setting channel info structure...\n",
      "Creating raw.info structure...\n"
     ]
    },
    {
     "name": "stderr",
     "output_type": "stream",
     "text": [
      " 42%|████▏     | 21/50 [01:52<02:34,  5.34s/it]"
     ]
    },
    {
     "name": "stdout",
     "output_type": "stream",
     "text": [
      "(7, 8565760)\n",
      "Extracting EDF parameters from /workspace/Competition/PSG/01_DATA/raw/103_12325.edf...\n",
      "EDF file detected\n",
      "Setting channel info structure...\n",
      "Creating raw.info structure...\n"
     ]
    },
    {
     "name": "stderr",
     "output_type": "stream",
     "text": [
      " 44%|████▍     | 22/50 [01:57<02:22,  5.09s/it]"
     ]
    },
    {
     "name": "stdout",
     "output_type": "stream",
     "text": [
      "(7, 9233408)\n",
      "Extracting EDF parameters from /workspace/Competition/PSG/01_DATA/raw/115_22774.edf...\n",
      "EDF file detected\n",
      "Setting channel info structure...\n",
      "Creating raw.info structure...\n"
     ]
    },
    {
     "name": "stderr",
     "output_type": "stream",
     "text": [
      " 46%|████▌     | 23/50 [02:02<02:20,  5.19s/it]"
     ]
    },
    {
     "name": "stdout",
     "output_type": "stream",
     "text": [
      "(7, 9991168)\n",
      "Extracting EDF parameters from /workspace/Competition/PSG/01_DATA/raw/121_23845.edf...\n",
      "EDF file detected\n",
      "Setting channel info structure...\n",
      "Creating raw.info structure...\n"
     ]
    },
    {
     "name": "stderr",
     "output_type": "stream",
     "text": [
      " 48%|████▊     | 24/50 [02:12<02:47,  6.46s/it]"
     ]
    },
    {
     "name": "stdout",
     "output_type": "stream",
     "text": [
      "(7, 15560704)\n",
      "Extracting EDF parameters from /workspace/Competition/PSG/01_DATA/raw/127_19126.edf...\n",
      "EDF file detected\n",
      "Setting channel info structure...\n",
      "Creating raw.info structure...\n"
     ]
    },
    {
     "name": "stderr",
     "output_type": "stream",
     "text": [
      " 50%|█████     | 25/50 [02:16<02:27,  5.92s/it]"
     ]
    },
    {
     "name": "stdout",
     "output_type": "stream",
     "text": [
      "(7, 9492480)\n",
      "Extracting EDF parameters from /workspace/Competition/PSG/01_DATA/raw/130_5164.edf...\n",
      "EDF file detected\n",
      "Setting channel info structure...\n",
      "Creating raw.info structure...\n"
     ]
    },
    {
     "name": "stderr",
     "output_type": "stream",
     "text": [
      " 52%|█████▏    | 26/50 [02:24<02:34,  6.45s/it]"
     ]
    },
    {
     "name": "stdout",
     "output_type": "stream",
     "text": [
      "(7, 14430400)\n",
      "Extracting EDF parameters from /workspace/Competition/PSG/01_DATA/raw/136_4501.edf...\n",
      "EDF file detected\n",
      "Setting channel info structure...\n",
      "Creating raw.info structure...\n"
     ]
    },
    {
     "name": "stderr",
     "output_type": "stream",
     "text": [
      " 54%|█████▍    | 27/50 [02:30<02:22,  6.19s/it]"
     ]
    },
    {
     "name": "stdout",
     "output_type": "stream",
     "text": [
      "(7, 9369600)\n",
      "Extracting EDF parameters from /workspace/Competition/PSG/01_DATA/raw/91_15028.edf...\n",
      "EDF file detected\n",
      "Setting channel info structure...\n",
      "Creating raw.info structure...\n"
     ]
    },
    {
     "name": "stderr",
     "output_type": "stream",
     "text": [
      " 56%|█████▌    | 28/50 [02:35<02:12,  6.02s/it]"
     ]
    },
    {
     "name": "stdout",
     "output_type": "stream",
     "text": [
      "(7, 7968768)\n",
      "Extracting EDF parameters from /workspace/Competition/PSG/01_DATA/raw/91_18331.edf...\n",
      "EDF file detected\n",
      "Setting channel info structure...\n",
      "Creating raw.info structure...\n"
     ]
    },
    {
     "name": "stderr",
     "output_type": "stream",
     "text": [
      " 58%|█████▊    | 29/50 [02:39<01:54,  5.47s/it]"
     ]
    },
    {
     "name": "stdout",
     "output_type": "stream",
     "text": [
      "(7, 8871936)\n",
      "Extracting EDF parameters from /workspace/Competition/PSG/01_DATA/raw/91_3787.edf...\n",
      "EDF file detected\n",
      "Setting channel info structure...\n",
      "Creating raw.info structure...\n"
     ]
    },
    {
     "name": "stderr",
     "output_type": "stream",
     "text": [
      " 60%|██████    | 30/50 [02:44<01:43,  5.19s/it]"
     ]
    },
    {
     "name": "stdout",
     "output_type": "stream",
     "text": [
      "(7, 9667584)\n",
      "Extracting EDF parameters from /workspace/Competition/PSG/01_DATA/raw/139_20275.edf...\n",
      "EDF file detected\n",
      "Setting channel info structure...\n",
      "Creating raw.info structure...\n"
     ]
    },
    {
     "name": "stderr",
     "output_type": "stream",
     "text": [
      " 62%|██████▏   | 31/50 [02:53<02:01,  6.40s/it]"
     ]
    },
    {
     "name": "stdout",
     "output_type": "stream",
     "text": [
      "(7, 10715136)\n",
      "Extracting EDF parameters from /workspace/Competition/PSG/01_DATA/raw/145_1537.edf...\n",
      "EDF file detected\n",
      "Setting channel info structure...\n",
      "Creating raw.info structure...\n"
     ]
    },
    {
     "name": "stderr",
     "output_type": "stream",
     "text": [
      " 64%|██████▍   | 32/50 [02:58<01:46,  5.93s/it]"
     ]
    },
    {
     "name": "stdout",
     "output_type": "stream",
     "text": [
      "(7, 10101760)\n",
      "Extracting EDF parameters from /workspace/Competition/PSG/01_DATA/raw/148_568.edf...\n",
      "EDF file detected\n",
      "Setting channel info structure...\n",
      "Creating raw.info structure...\n"
     ]
    },
    {
     "name": "stderr",
     "output_type": "stream",
     "text": [
      " 66%|██████▌   | 33/50 [03:07<01:58,  6.98s/it]"
     ]
    },
    {
     "name": "stdout",
     "output_type": "stream",
     "text": [
      "(7, 10470400)\n",
      "Extracting EDF parameters from /workspace/Competition/PSG/01_DATA/raw/151_23734.edf...\n",
      "EDF file detected\n",
      "Setting channel info structure...\n",
      "Creating raw.info structure...\n"
     ]
    },
    {
     "name": "stderr",
     "output_type": "stream",
     "text": [
      " 68%|██████▊   | 34/50 [03:13<01:44,  6.54s/it]"
     ]
    },
    {
     "name": "stdout",
     "output_type": "stream",
     "text": [
      "(7, 8860672)\n",
      "Extracting EDF parameters from /workspace/Competition/PSG/01_DATA/raw/154_18469.edf...\n",
      "EDF file detected\n",
      "Setting channel info structure...\n",
      "Creating raw.info structure...\n"
     ]
    },
    {
     "name": "stderr",
     "output_type": "stream",
     "text": [
      " 70%|███████   | 35/50 [03:21<01:43,  6.87s/it]"
     ]
    },
    {
     "name": "stdout",
     "output_type": "stream",
     "text": [
      "(7, 8750080)\n",
      "Extracting EDF parameters from /workspace/Competition/PSG/01_DATA/raw/157_6391.edf...\n",
      "EDF file detected\n",
      "Setting channel info structure...\n",
      "Creating raw.info structure...\n"
     ]
    },
    {
     "name": "stderr",
     "output_type": "stream",
     "text": [
      " 72%|███████▏  | 36/50 [03:26<01:28,  6.33s/it]"
     ]
    },
    {
     "name": "stdout",
     "output_type": "stream",
     "text": [
      "(7, 9344000)\n",
      "Extracting EDF parameters from /workspace/Competition/PSG/01_DATA/raw/160_11500.edf...\n",
      "EDF file detected\n",
      "Setting channel info structure...\n",
      "Creating raw.info structure...\n"
     ]
    },
    {
     "name": "stderr",
     "output_type": "stream",
     "text": [
      " 74%|███████▍  | 37/50 [03:35<01:34,  7.29s/it]"
     ]
    },
    {
     "name": "stdout",
     "output_type": "stream",
     "text": [
      "(7, 10191872)\n",
      "Extracting EDF parameters from /workspace/Competition/PSG/01_DATA/raw/160_12856.edf...\n",
      "EDF file detected\n",
      "Setting channel info structure...\n",
      "Creating raw.info structure...\n"
     ]
    },
    {
     "name": "stderr",
     "output_type": "stream",
     "text": [
      " 76%|███████▌  | 38/50 [03:42<01:24,  7.05s/it]"
     ]
    },
    {
     "name": "stdout",
     "output_type": "stream",
     "text": [
      "(7, 11149312)\n",
      "Extracting EDF parameters from /workspace/Competition/PSG/01_DATA/raw/160_2740.edf...\n",
      "EDF file detected\n",
      "Setting channel info structure...\n",
      "Creating raw.info structure...\n"
     ]
    },
    {
     "name": "stderr",
     "output_type": "stream",
     "text": [
      " 78%|███████▊  | 39/50 [03:51<01:25,  7.75s/it]"
     ]
    },
    {
     "name": "stdout",
     "output_type": "stream",
     "text": [
      "(7, 15343200)\n",
      "Extracting EDF parameters from /workspace/Competition/PSG/01_DATA/raw/163_20485.edf...\n",
      "EDF file detected\n",
      "Setting channel info structure...\n",
      "Creating raw.info structure...\n"
     ]
    },
    {
     "name": "stderr",
     "output_type": "stream",
     "text": [
      " 80%|████████  | 40/50 [03:56<01:09,  6.99s/it]"
     ]
    },
    {
     "name": "stdout",
     "output_type": "stream",
     "text": [
      "(7, 8520704)\n",
      "Extracting EDF parameters from /workspace/Competition/PSG/01_DATA/raw/166_10357.edf...\n",
      "EDF file detected\n",
      "Setting channel info structure...\n",
      "Creating raw.info structure...\n"
     ]
    },
    {
     "name": "stderr",
     "output_type": "stream",
     "text": [
      " 82%|████████▏ | 41/50 [04:02<00:59,  6.57s/it]"
     ]
    },
    {
     "name": "stdout",
     "output_type": "stream",
     "text": [
      "(7, 9176064)\n",
      "Extracting EDF parameters from /workspace/Competition/PSG/01_DATA/raw/181_12274.edf...\n",
      "EDF file detected\n",
      "Setting channel info structure...\n",
      "Creating raw.info structure...\n"
     ]
    },
    {
     "name": "stderr",
     "output_type": "stream",
     "text": [
      " 84%|████████▍ | 42/50 [04:08<00:51,  6.47s/it]"
     ]
    },
    {
     "name": "stdout",
     "output_type": "stream",
     "text": [
      "(7, 10570752)\n",
      "Extracting EDF parameters from /workspace/Competition/PSG/01_DATA/raw/184_2509.edf...\n",
      "EDF file detected\n",
      "Setting channel info structure...\n",
      "Creating raw.info structure...\n"
     ]
    },
    {
     "name": "stderr",
     "output_type": "stream",
     "text": [
      " 86%|████████▌ | 43/50 [04:14<00:45,  6.46s/it]"
     ]
    },
    {
     "name": "stdout",
     "output_type": "stream",
     "text": [
      "(7, 10739712)\n",
      "Extracting EDF parameters from /workspace/Competition/PSG/01_DATA/raw/187_6160.edf...\n",
      "EDF file detected\n",
      "Setting channel info structure...\n",
      "Creating raw.info structure...\n"
     ]
    },
    {
     "name": "stderr",
     "output_type": "stream",
     "text": [
      " 88%|████████▊ | 44/50 [04:21<00:39,  6.57s/it]"
     ]
    },
    {
     "name": "stdout",
     "output_type": "stream",
     "text": [
      "(7, 10547200)\n",
      "Extracting EDF parameters from /workspace/Competition/PSG/01_DATA/raw/190_9877.edf...\n",
      "EDF file detected\n",
      "Setting channel info structure...\n",
      "Creating raw.info structure...\n"
     ]
    },
    {
     "name": "stderr",
     "output_type": "stream",
     "text": [
      " 90%|█████████ | 45/50 [04:26<00:30,  6.10s/it]"
     ]
    },
    {
     "name": "stdout",
     "output_type": "stream",
     "text": [
      "(7, 8641536)\n",
      "Extracting EDF parameters from /workspace/Competition/PSG/01_DATA/raw/202_13666.edf...\n",
      "EDF file detected\n",
      "Setting channel info structure...\n",
      "Creating raw.info structure...\n"
     ]
    },
    {
     "name": "stderr",
     "output_type": "stream",
     "text": [
      " 92%|█████████▏| 46/50 [04:35<00:26,  6.74s/it]"
     ]
    },
    {
     "name": "stdout",
     "output_type": "stream",
     "text": [
      "(7, 9319424)\n",
      "Extracting EDF parameters from /workspace/Competition/PSG/01_DATA/raw/205_23176.edf...\n",
      "EDF file detected\n",
      "Setting channel info structure...\n",
      "Creating raw.info structure...\n"
     ]
    },
    {
     "name": "stderr",
     "output_type": "stream",
     "text": [
      " 94%|█████████▍| 47/50 [04:42<00:20,  6.89s/it]"
     ]
    },
    {
     "name": "stdout",
     "output_type": "stream",
     "text": [
      "(7, 10684416)\n",
      "Extracting EDF parameters from /workspace/Competition/PSG/01_DATA/raw/211_25741.edf...\n",
      "EDF file detected\n",
      "Setting channel info structure...\n",
      "Creating raw.info structure...\n"
     ]
    },
    {
     "name": "stderr",
     "output_type": "stream",
     "text": [
      " 96%|█████████▌| 48/50 [04:48<00:13,  6.72s/it]"
     ]
    },
    {
     "name": "stdout",
     "output_type": "stream",
     "text": [
      "(7, 9695232)\n",
      "Extracting EDF parameters from /workspace/Competition/PSG/01_DATA/raw/211_8290.edf...\n",
      "EDF file detected\n",
      "Setting channel info structure...\n",
      "Creating raw.info structure...\n"
     ]
    },
    {
     "name": "stderr",
     "output_type": "stream",
     "text": [
      " 98%|█████████▊| 49/50 [04:55<00:06,  6.62s/it]"
     ]
    },
    {
     "name": "stdout",
     "output_type": "stream",
     "text": [
      "(7, 10147840)\n",
      "Extracting EDF parameters from /workspace/Competition/PSG/01_DATA/raw/220_7708.edf...\n",
      "EDF file detected\n",
      "Setting channel info structure...\n",
      "Creating raw.info structure...\n"
     ]
    },
    {
     "name": "stderr",
     "output_type": "stream",
     "text": [
      "100%|██████████| 50/50 [05:01<00:00,  6.03s/it]"
     ]
    },
    {
     "name": "stdout",
     "output_type": "stream",
     "text": [
      "(7, 10512384)\n"
     ]
    },
    {
     "name": "stderr",
     "output_type": "stream",
     "text": [
      "\n"
     ]
    }
   ],
   "source": [
    "savefolder = '/workspace/Competition/PSG/01_DATA/eeg_7_channel'\n",
    "\n",
    "for rec in tqdm(edf_files):\n",
    "    edfpath = os.path.join(raw_path, rec)\n",
    "    rawedf = mne.io.read_raw_edf(edfpath)\n",
    "    channels = rawedf.ch_names\n",
    "    eeg_channels = [x for x in channels if 'EEG' in x]\n",
    "    eeg_channels.sort()\n",
    "    raw_eegs = []\n",
    "    for ch in eeg_channels:\n",
    "        if ch.upper() in master_channels:\n",
    "            raw_eegs.append(rawedf[ch][0])\n",
    "    eeg_array = np.concatenate(raw_eegs, axis=0)\n",
    "    filename = rec.split('.')[0]\n",
    "    savepath = os.path.join(savefolder, filename)\n",
    "    np.save(savepath, eeg_array)\n",
    "    print(eeg_array.shape)\n",
    "            \n",
    "            \n",
    "    "
   ]
  }
 ],
 "metadata": {
  "kernelspec": {
   "display_name": "Python 3 (ipykernel)",
   "language": "python",
   "name": "python3"
  },
  "language_info": {
   "codemirror_mode": {
    "name": "ipython",
    "version": 3
   },
   "file_extension": ".py",
   "mimetype": "text/x-python",
   "name": "python",
   "nbconvert_exporter": "python",
   "pygments_lexer": "ipython3",
   "version": "3.9.13"
  }
 },
 "nbformat": 4,
 "nbformat_minor": 5
}
