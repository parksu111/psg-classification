{
 "cells": [
  {
   "attachments": {},
   "cell_type": "markdown",
   "metadata": {},
   "source": [
    "# Data Prep\n",
    "\n",
    "This notebook details the steps taken to process the raw data into the train and test data that was used for the competition."
   ]
  },
  {
   "cell_type": "code",
   "execution_count": 2,
   "metadata": {},
   "outputs": [],
   "source": [
    "import os\n",
    "import numpy as np\n",
    "import pandas as pd\n",
    "import mne\n",
    "import scipy.stats as stats\n",
    "import matplotlib.pyplot as plt"
   ]
  },
  {
   "attachments": {},
   "cell_type": "markdown",
   "metadata": {},
   "source": [
    "## Examining the Raw Data\n",
    "\n",
    "### Data Files"
   ]
  },
  {
   "cell_type": "code",
   "execution_count": 3,
   "metadata": {},
   "outputs": [],
   "source": [
    "raw_path = '/workspace/Competition/PSG/data/raw'\n",
    "raw_files = os.listdir(raw_path)"
   ]
  },
  {
   "cell_type": "code",
   "execution_count": 4,
   "metadata": {},
   "outputs": [
    {
     "name": "stdout",
     "output_type": "stream",
     "text": [
      "40\n"
     ]
    }
   ],
   "source": [
    "print(len(raw_files))"
   ]
  },
  {
   "cell_type": "code",
   "execution_count": 5,
   "metadata": {},
   "outputs": [
    {
     "data": {
      "text/plain": [
       "['10_22339.edf',\n",
       " '10_22339.tsv',\n",
       " '16_24241.edf',\n",
       " '16_24241.tsv',\n",
       " '1_4789.edf',\n",
       " '1_4789.tsv',\n",
       " '22_23233.edf',\n",
       " '22_23233.tsv',\n",
       " '25_10579.edf',\n",
       " '25_10579.tsv']"
      ]
     },
     "execution_count": 5,
     "metadata": {},
     "output_type": "execute_result"
    }
   ],
   "source": [
    "raw_files[0:10]"
   ]
  },
  {
   "attachments": {},
   "cell_type": "markdown",
   "metadata": {},
   "source": [
    "We have 2 different types of data files:\n",
    "* tsv files\n",
    "* edf files"
   ]
  },
  {
   "cell_type": "code",
   "execution_count": 6,
   "metadata": {},
   "outputs": [
    {
     "data": {
      "text/plain": [
       "(20, 20)"
      ]
     },
     "execution_count": 6,
     "metadata": {},
     "output_type": "execute_result"
    }
   ],
   "source": [
    "tsv_files = [x for x in raw_files if x.endswith('.tsv')]\n",
    "edf_files = [x for x in raw_files if x.endswith('.edf')]\n",
    "\n",
    "len(tsv_files), len(edf_files)"
   ]
  },
  {
   "attachments": {},
   "cell_type": "markdown",
   "metadata": {},
   "source": [
    "There are 20 of each."
   ]
  },
  {
   "cell_type": "code",
   "execution_count": 7,
   "metadata": {},
   "outputs": [
    {
     "data": {
      "text/plain": [
       "20"
      ]
     },
     "execution_count": 7,
     "metadata": {},
     "output_type": "execute_result"
    }
   ],
   "source": [
    "# Sort the two lists\n",
    "tsv_files.sort()\n",
    "edf_files.sort()\n",
    "\n",
    "# Check if the names of the files match\n",
    "sum([x.split('.')[0] == y.split('.')[0] for x,y in zip(tsv_files, edf_files)])"
   ]
  },
  {
   "attachments": {},
   "cell_type": "markdown",
   "metadata": {},
   "source": [
    "We can see that there is a corresponding edf file for each tsv file."
   ]
  },
  {
   "attachments": {},
   "cell_type": "markdown",
   "metadata": {},
   "source": [
    "### tsv files"
   ]
  },
  {
   "cell_type": "code",
   "execution_count": 8,
   "metadata": {},
   "outputs": [
    {
     "data": {
      "text/html": [
       "<div>\n",
       "<style scoped>\n",
       "    .dataframe tbody tr th:only-of-type {\n",
       "        vertical-align: middle;\n",
       "    }\n",
       "\n",
       "    .dataframe tbody tr th {\n",
       "        vertical-align: top;\n",
       "    }\n",
       "\n",
       "    .dataframe thead th {\n",
       "        text-align: right;\n",
       "    }\n",
       "</style>\n",
       "<table border=\"1\" class=\"dataframe\">\n",
       "  <thead>\n",
       "    <tr style=\"text-align: right;\">\n",
       "      <th></th>\n",
       "      <th>onset</th>\n",
       "      <th>duration</th>\n",
       "      <th>description</th>\n",
       "    </tr>\n",
       "  </thead>\n",
       "  <tbody>\n",
       "    <tr>\n",
       "      <th>0</th>\n",
       "      <td>0.496094</td>\n",
       "      <td>0.0</td>\n",
       "      <td>Start Recording</td>\n",
       "    </tr>\n",
       "    <tr>\n",
       "      <th>1</th>\n",
       "      <td>0.496094</td>\n",
       "      <td>0.0</td>\n",
       "      <td>Montage:NCH_PSG_STANDARD, Ref</td>\n",
       "    </tr>\n",
       "    <tr>\n",
       "      <th>2</th>\n",
       "      <td>0.496094</td>\n",
       "      <td>0.0</td>\n",
       "      <td>Montage:NCH_PSG_STANDARD, Ref</td>\n",
       "    </tr>\n",
       "    <tr>\n",
       "      <th>3</th>\n",
       "      <td>0.687500</td>\n",
       "      <td>0.0</td>\n",
       "      <td>Recording Analyzer - ECG</td>\n",
       "    </tr>\n",
       "    <tr>\n",
       "      <th>4</th>\n",
       "      <td>1.023438</td>\n",
       "      <td>0.0</td>\n",
       "      <td>Video Recording ON</td>\n",
       "    </tr>\n",
       "    <tr>\n",
       "      <th>5</th>\n",
       "      <td>32.007812</td>\n",
       "      <td>0.0</td>\n",
       "      <td>Montage:Channel Test Referential</td>\n",
       "    </tr>\n",
       "    <tr>\n",
       "      <th>6</th>\n",
       "      <td>32.007812</td>\n",
       "      <td>0.0</td>\n",
       "      <td>Montage:Channel Test Referential</td>\n",
       "    </tr>\n",
       "    <tr>\n",
       "      <th>7</th>\n",
       "      <td>91.832031</td>\n",
       "      <td>0.0</td>\n",
       "      <td>Montage:NCH_PSG_STANDARD</td>\n",
       "    </tr>\n",
       "    <tr>\n",
       "      <th>8</th>\n",
       "      <td>91.832031</td>\n",
       "      <td>0.0</td>\n",
       "      <td>Montage:NCH_PSG_STANDARD</td>\n",
       "    </tr>\n",
       "    <tr>\n",
       "      <th>9</th>\n",
       "      <td>3094.042969</td>\n",
       "      <td>0.0</td>\n",
       "      <td>Impedance at 10 kOhm</td>\n",
       "    </tr>\n",
       "  </tbody>\n",
       "</table>\n",
       "</div>"
      ],
      "text/plain": [
       "         onset  duration                       description\n",
       "0     0.496094       0.0                   Start Recording\n",
       "1     0.496094       0.0     Montage:NCH_PSG_STANDARD, Ref\n",
       "2     0.496094       0.0     Montage:NCH_PSG_STANDARD, Ref\n",
       "3     0.687500       0.0          Recording Analyzer - ECG\n",
       "4     1.023438       0.0                Video Recording ON\n",
       "5    32.007812       0.0  Montage:Channel Test Referential\n",
       "6    32.007812       0.0  Montage:Channel Test Referential\n",
       "7    91.832031       0.0          Montage:NCH_PSG_STANDARD\n",
       "8    91.832031       0.0          Montage:NCH_PSG_STANDARD\n",
       "9  3094.042969       0.0              Impedance at 10 kOhm"
      ]
     },
     "execution_count": 8,
     "metadata": {},
     "output_type": "execute_result"
    }
   ],
   "source": [
    "data = pd.read_csv(os.path.join(raw_path, tsv_files[0]), delimiter='\\t')\n",
    "\n",
    "data.head(10)"
   ]
  },
  {
   "attachments": {},
   "cell_type": "markdown",
   "metadata": {},
   "source": [
    "As we can see, there are 3 columns to a tsv file:\n",
    "* onset: The time point at which a specific event begins.\n",
    "* duration: The duration of that given event.\n",
    "* description: The type of event that occurs."
   ]
  },
  {
   "cell_type": "code",
   "execution_count": 9,
   "metadata": {},
   "outputs": [
    {
     "data": {
      "text/plain": [
       "array(['Start Recording', 'Montage:NCH_PSG_STANDARD, Ref',\n",
       "       'Recording Analyzer - ECG', 'Video Recording ON',\n",
       "       'Montage:Channel Test Referential', 'Montage:NCH_PSG_STANDARD',\n",
       "       'Impedance at 10 kOhm', 'Body Position: Supine',\n",
       "       'bed flat for biocals eyes open', 'eyes closed', 'eyes open',\n",
       "       'eyes closed up and down', 'eyes closed left and right', 'blinks',\n",
       "       'chew', 'loud snores', 'nasal breathing', 'oral breathing',\n",
       "       'breath hold', 'left foot flex', 'right foot flex', 'biocals done',\n",
       "       'bed flat controls locked one pillow in use', 'Sleep stage W',\n",
       "       'Lights Off', 'Started Analyzer - ECG',\n",
       "       'Started Analyzer - Data Trends',\n",
       "       'Started Analyzer - Sleep Events', 'Body Position: Left',\n",
       "       'Oxygen Desaturation',\n",
       "       'pt has pushed pillow totally out from under her head',\n",
       "       'sleep onset soft snores', 'Sleep stage N1', 'Sleep stage N2',\n",
       "       'jerk', 'soft snores', 'Sleep stage N3', 'EEG arousal', 'move',\n",
       "       'threw covers off', 'shaking head', 'Body Position: Prone',\n",
       "       'soft to medium snores', 'Gain/Filter Change', 'stretching', 'REM',\n",
       "       'Sleep stage R', 'Hypopnea',\n",
       "       'checking leg leads and moving pulse ox wire', 'adjusted covers',\n",
       "       'adjusting covers', 'teck in', 'head mvmt',\n",
       "       'checking cannula placement', 'medium to loud snores',\n",
       "       'desat to 89', 'Body Position: Right', 'mom talking to pt',\n",
       "       'Lights On', 'Stopped Analyzer - Data Trends',\n",
       "       'Stopped Analyzer - Sleep Events', 'CBG', 'Sleep stage ?'],\n",
       "      dtype=object)"
      ]
     },
     "execution_count": 9,
     "metadata": {},
     "output_type": "execute_result"
    }
   ],
   "source": [
    "data['description'].unique()"
   ]
  },
  {
   "cell_type": "code",
   "execution_count": 10,
   "metadata": {},
   "outputs": [
    {
     "data": {
      "text/plain": [
       "Sleep stage N2                                          439\n",
       "Sleep stage N3                                          196\n",
       "Sleep stage R                                           157\n",
       "Sleep stage W                                           119\n",
       "Sleep stage ?                                            68\n",
       "                                                       ... \n",
       "Started Analyzer - ECG                                    1\n",
       "Started Analyzer - Data Trends                            1\n",
       "Started Analyzer - Sleep Events                           1\n",
       "pt has pushed pillow totally out from under her head      1\n",
       "sleep onset soft snores                                   1\n",
       "Name: description, Length: 63, dtype: int64"
      ]
     },
     "execution_count": 10,
     "metadata": {},
     "output_type": "execute_result"
    }
   ],
   "source": [
    "data['description'].value_counts()"
   ]
  },
  {
   "attachments": {},
   "cell_type": "markdown",
   "metadata": {},
   "source": [
    "As we can see, there are various types of events that have been labelled. Of those events, those important to us are:\n",
    "* Sleep stage N1\n",
    "* Sleep stage N2\n",
    "* Sleep stage N3\n",
    "* Sleep stage R\n",
    "* Sleep stage W\n",
    "\n",
    "We compile information about the sleep stages from all of the tsv files."
   ]
  },
  {
   "cell_type": "code",
   "execution_count": 11,
   "metadata": {},
   "outputs": [],
   "source": [
    "sleep_stages = []\n",
    "stage_durations = []\n",
    "stage_onsets = []\n",
    "recs = []\n",
    "inds = []\n",
    "isend = []\n",
    "\n",
    "for rec in tsv_files:\n",
    "    recpath = os.path.join(raw_path, rec)\n",
    "    data = pd.read_csv(recpath, delimiter='\\t')\n",
    "    descriptions = list(data['description'])\n",
    "    durations = list(data['duration'])\n",
    "    onsets = list(data['onset'])\n",
    "    for i in range(len(data)):\n",
    "        if 'Sleep stage' in descriptions[i]:\n",
    "            sleep_stages.append(descriptions[i])\n",
    "            stage_durations.append(durations[i])\n",
    "            stage_onsets.append(onsets[i])\n",
    "            recs.append(rec)\n",
    "            inds.append(i)\n",
    "            if i == len(data)-1:\n",
    "                isend.append(True)\n",
    "            else:\n",
    "                isend.append(False)\n",
    "\n",
    "compiled_df = pd.DataFrame({'stage':sleep_stages,'dur':stage_durations,'onset':stage_onsets,'rec':recs, 'ind':inds, 'end':isend})"
   ]
  },
  {
   "cell_type": "code",
   "execution_count": 12,
   "metadata": {},
   "outputs": [
    {
     "data": {
      "text/html": [
       "<div>\n",
       "<style scoped>\n",
       "    .dataframe tbody tr th:only-of-type {\n",
       "        vertical-align: middle;\n",
       "    }\n",
       "\n",
       "    .dataframe tbody tr th {\n",
       "        vertical-align: top;\n",
       "    }\n",
       "\n",
       "    .dataframe thead th {\n",
       "        text-align: right;\n",
       "    }\n",
       "</style>\n",
       "<table border=\"1\" class=\"dataframe\">\n",
       "  <thead>\n",
       "    <tr style=\"text-align: right;\">\n",
       "      <th></th>\n",
       "      <th>stage</th>\n",
       "      <th>dur</th>\n",
       "      <th>onset</th>\n",
       "      <th>rec</th>\n",
       "      <th>ind</th>\n",
       "      <th>end</th>\n",
       "    </tr>\n",
       "  </thead>\n",
       "  <tbody>\n",
       "    <tr>\n",
       "      <th>0</th>\n",
       "      <td>Sleep stage W</td>\n",
       "      <td>30.0</td>\n",
       "      <td>10530.460938</td>\n",
       "      <td>10_22339.tsv</td>\n",
       "      <td>30</td>\n",
       "      <td>False</td>\n",
       "    </tr>\n",
       "    <tr>\n",
       "      <th>1</th>\n",
       "      <td>Sleep stage W</td>\n",
       "      <td>30.0</td>\n",
       "      <td>10560.460938</td>\n",
       "      <td>10_22339.tsv</td>\n",
       "      <td>35</td>\n",
       "      <td>False</td>\n",
       "    </tr>\n",
       "    <tr>\n",
       "      <th>2</th>\n",
       "      <td>Sleep stage W</td>\n",
       "      <td>30.0</td>\n",
       "      <td>10590.460938</td>\n",
       "      <td>10_22339.tsv</td>\n",
       "      <td>37</td>\n",
       "      <td>False</td>\n",
       "    </tr>\n",
       "    <tr>\n",
       "      <th>3</th>\n",
       "      <td>Sleep stage W</td>\n",
       "      <td>30.0</td>\n",
       "      <td>10620.460938</td>\n",
       "      <td>10_22339.tsv</td>\n",
       "      <td>38</td>\n",
       "      <td>False</td>\n",
       "    </tr>\n",
       "    <tr>\n",
       "      <th>4</th>\n",
       "      <td>Sleep stage W</td>\n",
       "      <td>30.0</td>\n",
       "      <td>10650.460938</td>\n",
       "      <td>10_22339.tsv</td>\n",
       "      <td>39</td>\n",
       "      <td>False</td>\n",
       "    </tr>\n",
       "  </tbody>\n",
       "</table>\n",
       "</div>"
      ],
      "text/plain": [
       "           stage   dur         onset           rec  ind    end\n",
       "0  Sleep stage W  30.0  10530.460938  10_22339.tsv   30  False\n",
       "1  Sleep stage W  30.0  10560.460938  10_22339.tsv   35  False\n",
       "2  Sleep stage W  30.0  10590.460938  10_22339.tsv   37  False\n",
       "3  Sleep stage W  30.0  10620.460938  10_22339.tsv   38  False\n",
       "4  Sleep stage W  30.0  10650.460938  10_22339.tsv   39  False"
      ]
     },
     "execution_count": 12,
     "metadata": {},
     "output_type": "execute_result"
    }
   ],
   "source": [
    "compiled_df.head()"
   ]
  },
  {
   "attachments": {},
   "cell_type": "markdown",
   "metadata": {},
   "source": [
    "We first check to see the durations of the sleep stage events."
   ]
  },
  {
   "cell_type": "code",
   "execution_count": 13,
   "metadata": {},
   "outputs": [
    {
     "data": {
      "text/plain": [
       "30.000000    20901\n",
       "17.539062        1\n",
       "3.019531         1\n",
       "27.675781        1\n",
       "11.445312        1\n",
       "20.000000        1\n",
       "5.335938         1\n",
       "23.359375        1\n",
       "29.074219        1\n",
       "27.300781        1\n",
       "19.253906        1\n",
       "23.683594        1\n",
       "17.425781        1\n",
       "19.351562        1\n",
       "9.324219         1\n",
       "23.597656        1\n",
       "13.238281        1\n",
       "25.738281        1\n",
       "17.132812        1\n",
       "21.160156        1\n",
       "Name: dur, dtype: int64"
      ]
     },
     "execution_count": 13,
     "metadata": {},
     "output_type": "execute_result"
    }
   ],
   "source": [
    "compiled_df['dur'].value_counts()"
   ]
  },
  {
   "cell_type": "code",
   "execution_count": 14,
   "metadata": {},
   "outputs": [
    {
     "data": {
      "text/html": [
       "<div>\n",
       "<style scoped>\n",
       "    .dataframe tbody tr th:only-of-type {\n",
       "        vertical-align: middle;\n",
       "    }\n",
       "\n",
       "    .dataframe tbody tr th {\n",
       "        vertical-align: top;\n",
       "    }\n",
       "\n",
       "    .dataframe thead th {\n",
       "        text-align: right;\n",
       "    }\n",
       "</style>\n",
       "<table border=\"1\" class=\"dataframe\">\n",
       "  <thead>\n",
       "    <tr style=\"text-align: right;\">\n",
       "      <th></th>\n",
       "      <th>stage</th>\n",
       "      <th>dur</th>\n",
       "      <th>onset</th>\n",
       "      <th>rec</th>\n",
       "      <th>ind</th>\n",
       "      <th>end</th>\n",
       "    </tr>\n",
       "  </thead>\n",
       "  <tbody>\n",
       "    <tr>\n",
       "      <th>0</th>\n",
       "      <td>Sleep stage ?</td>\n",
       "      <td>17.539062</td>\n",
       "      <td>40530.460938</td>\n",
       "      <td>10_22339.tsv</td>\n",
       "      <td>1222</td>\n",
       "      <td>True</td>\n",
       "    </tr>\n",
       "    <tr>\n",
       "      <th>1</th>\n",
       "      <td>Sleep stage ?</td>\n",
       "      <td>17.132812</td>\n",
       "      <td>36270.867188</td>\n",
       "      <td>16_24241.tsv</td>\n",
       "      <td>1158</td>\n",
       "      <td>True</td>\n",
       "    </tr>\n",
       "    <tr>\n",
       "      <th>2</th>\n",
       "      <td>Sleep stage ?</td>\n",
       "      <td>25.738281</td>\n",
       "      <td>34650.261719</td>\n",
       "      <td>1_4789.tsv</td>\n",
       "      <td>1134</td>\n",
       "      <td>True</td>\n",
       "    </tr>\n",
       "    <tr>\n",
       "      <th>3</th>\n",
       "      <td>Sleep stage ?</td>\n",
       "      <td>13.238281</td>\n",
       "      <td>42330.761719</td>\n",
       "      <td>22_23233.tsv</td>\n",
       "      <td>1162</td>\n",
       "      <td>True</td>\n",
       "    </tr>\n",
       "    <tr>\n",
       "      <th>4</th>\n",
       "      <td>Sleep stage ?</td>\n",
       "      <td>23.597656</td>\n",
       "      <td>37500.402344</td>\n",
       "      <td>25_10579.tsv</td>\n",
       "      <td>1376</td>\n",
       "      <td>True</td>\n",
       "    </tr>\n",
       "    <tr>\n",
       "      <th>5</th>\n",
       "      <td>Sleep stage ?</td>\n",
       "      <td>9.324219</td>\n",
       "      <td>46350.675781</td>\n",
       "      <td>25_18085.tsv</td>\n",
       "      <td>1564</td>\n",
       "      <td>True</td>\n",
       "    </tr>\n",
       "    <tr>\n",
       "      <th>6</th>\n",
       "      <td>Sleep stage ?</td>\n",
       "      <td>19.351562</td>\n",
       "      <td>38460.648438</td>\n",
       "      <td>28_15280.tsv</td>\n",
       "      <td>1152</td>\n",
       "      <td>True</td>\n",
       "    </tr>\n",
       "    <tr>\n",
       "      <th>7</th>\n",
       "      <td>Sleep stage ?</td>\n",
       "      <td>17.425781</td>\n",
       "      <td>40350.574219</td>\n",
       "      <td>31_4429.tsv</td>\n",
       "      <td>1248</td>\n",
       "      <td>True</td>\n",
       "    </tr>\n",
       "    <tr>\n",
       "      <th>8</th>\n",
       "      <td>Sleep stage ?</td>\n",
       "      <td>23.683594</td>\n",
       "      <td>35820.316406</td>\n",
       "      <td>37_14779.tsv</td>\n",
       "      <td>1193</td>\n",
       "      <td>True</td>\n",
       "    </tr>\n",
       "    <tr>\n",
       "      <th>9</th>\n",
       "      <td>Sleep stage ?</td>\n",
       "      <td>19.253906</td>\n",
       "      <td>40620.746094</td>\n",
       "      <td>40_14503.tsv</td>\n",
       "      <td>1238</td>\n",
       "      <td>True</td>\n",
       "    </tr>\n",
       "    <tr>\n",
       "      <th>10</th>\n",
       "      <td>Sleep stage ?</td>\n",
       "      <td>27.300781</td>\n",
       "      <td>37140.699219</td>\n",
       "      <td>46_11305.tsv</td>\n",
       "      <td>1221</td>\n",
       "      <td>False</td>\n",
       "    </tr>\n",
       "    <tr>\n",
       "      <th>11</th>\n",
       "      <td>Sleep stage ?</td>\n",
       "      <td>29.074219</td>\n",
       "      <td>33750.925781</td>\n",
       "      <td>55_6112.tsv</td>\n",
       "      <td>1135</td>\n",
       "      <td>True</td>\n",
       "    </tr>\n",
       "    <tr>\n",
       "      <th>12</th>\n",
       "      <td>Sleep stage ?</td>\n",
       "      <td>23.359375</td>\n",
       "      <td>44340.640625</td>\n",
       "      <td>61_19477.tsv</td>\n",
       "      <td>1458</td>\n",
       "      <td>True</td>\n",
       "    </tr>\n",
       "    <tr>\n",
       "      <th>13</th>\n",
       "      <td>Sleep stage ?</td>\n",
       "      <td>5.335938</td>\n",
       "      <td>31710.664062</td>\n",
       "      <td>64_14908.tsv</td>\n",
       "      <td>1374</td>\n",
       "      <td>True</td>\n",
       "    </tr>\n",
       "    <tr>\n",
       "      <th>14</th>\n",
       "      <td>Sleep stage ?</td>\n",
       "      <td>20.000000</td>\n",
       "      <td>37260.000000</td>\n",
       "      <td>64_25396.tsv</td>\n",
       "      <td>1141</td>\n",
       "      <td>True</td>\n",
       "    </tr>\n",
       "    <tr>\n",
       "      <th>15</th>\n",
       "      <td>Sleep stage ?</td>\n",
       "      <td>11.445312</td>\n",
       "      <td>40260.554688</td>\n",
       "      <td>67_5998.tsv</td>\n",
       "      <td>1679</td>\n",
       "      <td>True</td>\n",
       "    </tr>\n",
       "    <tr>\n",
       "      <th>16</th>\n",
       "      <td>Sleep stage ?</td>\n",
       "      <td>27.675781</td>\n",
       "      <td>36600.324219</td>\n",
       "      <td>70_20743.tsv</td>\n",
       "      <td>2099</td>\n",
       "      <td>False</td>\n",
       "    </tr>\n",
       "    <tr>\n",
       "      <th>17</th>\n",
       "      <td>Sleep stage ?</td>\n",
       "      <td>3.019531</td>\n",
       "      <td>40980.980469</td>\n",
       "      <td>7_12595.tsv</td>\n",
       "      <td>1453</td>\n",
       "      <td>True</td>\n",
       "    </tr>\n",
       "    <tr>\n",
       "      <th>18</th>\n",
       "      <td>Sleep stage ?</td>\n",
       "      <td>21.160156</td>\n",
       "      <td>32850.839844</td>\n",
       "      <td>82_20809.tsv</td>\n",
       "      <td>1040</td>\n",
       "      <td>True</td>\n",
       "    </tr>\n",
       "  </tbody>\n",
       "</table>\n",
       "</div>"
      ],
      "text/plain": [
       "            stage        dur         onset           rec   ind    end\n",
       "0   Sleep stage ?  17.539062  40530.460938  10_22339.tsv  1222   True\n",
       "1   Sleep stage ?  17.132812  36270.867188  16_24241.tsv  1158   True\n",
       "2   Sleep stage ?  25.738281  34650.261719    1_4789.tsv  1134   True\n",
       "3   Sleep stage ?  13.238281  42330.761719  22_23233.tsv  1162   True\n",
       "4   Sleep stage ?  23.597656  37500.402344  25_10579.tsv  1376   True\n",
       "5   Sleep stage ?   9.324219  46350.675781  25_18085.tsv  1564   True\n",
       "6   Sleep stage ?  19.351562  38460.648438  28_15280.tsv  1152   True\n",
       "7   Sleep stage ?  17.425781  40350.574219   31_4429.tsv  1248   True\n",
       "8   Sleep stage ?  23.683594  35820.316406  37_14779.tsv  1193   True\n",
       "9   Sleep stage ?  19.253906  40620.746094  40_14503.tsv  1238   True\n",
       "10  Sleep stage ?  27.300781  37140.699219  46_11305.tsv  1221  False\n",
       "11  Sleep stage ?  29.074219  33750.925781   55_6112.tsv  1135   True\n",
       "12  Sleep stage ?  23.359375  44340.640625  61_19477.tsv  1458   True\n",
       "13  Sleep stage ?   5.335938  31710.664062  64_14908.tsv  1374   True\n",
       "14  Sleep stage ?  20.000000  37260.000000  64_25396.tsv  1141   True\n",
       "15  Sleep stage ?  11.445312  40260.554688   67_5998.tsv  1679   True\n",
       "16  Sleep stage ?  27.675781  36600.324219  70_20743.tsv  2099  False\n",
       "17  Sleep stage ?   3.019531  40980.980469   7_12595.tsv  1453   True\n",
       "18  Sleep stage ?  21.160156  32850.839844  82_20809.tsv  1040   True"
      ]
     },
     "execution_count": 14,
     "metadata": {},
     "output_type": "execute_result"
    }
   ],
   "source": [
    "shortdf = compiled_df[compiled_df.dur!=30].reset_index(drop=True)\n",
    "shortdf"
   ]
  },
  {
   "attachments": {},
   "cell_type": "markdown",
   "metadata": {},
   "source": [
    "* There are a total of 19 instances for which the duration of a sleep event is not 30 seconds.\n",
    "* Of those 19, 17 are because the recroding ended before a full 30 seconds.\n",
    "* All the stages are unidentified ('Sleep stage ?')\n",
    "\n",
    "We keep these in mind and move on to the edf files."
   ]
  },
  {
   "attachments": {},
   "cell_type": "markdown",
   "metadata": {},
   "source": [
    "## EDF files\n",
    "\n",
    "EDF stands for 'European Data Format'. It is commonly used to store biosignals. More information can be found [here](https://www.edfplus.info/). The raw signals of the PSG recordings are stored in EDF format and we use the [MNE library](https://mne.tools/stable/index.html) to handle them."
   ]
  },
  {
   "attachments": {},
   "cell_type": "markdown",
   "metadata": {},
   "source": [
    "#### General Info"
   ]
  },
  {
   "attachments": {},
   "cell_type": "markdown",
   "metadata": {},
   "source": [
    "We test with 1 recording and see what kind of information and signals are included."
   ]
  },
  {
   "cell_type": "code",
   "execution_count": 15,
   "metadata": {},
   "outputs": [
    {
     "name": "stdout",
     "output_type": "stream",
     "text": [
      "Extracting EDF parameters from /workspace/Competition/PSG/data/raw/10_22339.edf...\n",
      "EDF file detected\n",
      "Setting channel info structure...\n",
      "Creating raw.info structure...\n"
     ]
    }
   ],
   "source": [
    "edfpath = os.path.join(raw_path, edf_files[0])\n",
    "rawedf = mne.io.read_raw_edf(edfpath)"
   ]
  },
  {
   "cell_type": "code",
   "execution_count": 16,
   "metadata": {},
   "outputs": [
    {
     "data": {
      "text/html": [
       "<table class=\"table table-hover table-striped table-sm table-responsive small\">\n",
       "    <tr>\n",
       "        <th>Measurement date</th>\n",
       "        \n",
       "        <td>January 01, 2001  18:42:23 GMT</td>\n",
       "        \n",
       "    </tr>\n",
       "    <tr>\n",
       "        <th>Experimenter</th>\n",
       "        \n",
       "        <td>Unknown</td>\n",
       "        \n",
       "    </tr>\n",
       "        <th>Participant</th>\n",
       "        \n",
       "        <td>Unknown</td>\n",
       "        \n",
       "    </tr>\n",
       "    <tr>\n",
       "        <th>Digitized points</th>\n",
       "        \n",
       "        <td>0 points</td>\n",
       "        \n",
       "    </tr>\n",
       "    <tr>\n",
       "        <th>Good channels</th>\n",
       "        <td>26 EEG</td>\n",
       "    </tr>\n",
       "    <tr>\n",
       "        <th>Bad channels</th>\n",
       "        <td>None</td>\n",
       "    </tr>\n",
       "    <tr>\n",
       "        <th>EOG channels</th>\n",
       "        <td>Not available</td>\n",
       "    </tr>\n",
       "    <tr>\n",
       "        <th>ECG channels</th>\n",
       "        <td>Not available</td>\n",
       "    \n",
       "    <tr>\n",
       "        <th>Sampling frequency</th>\n",
       "        <td>256.00 Hz</td>\n",
       "    </tr>\n",
       "    \n",
       "    \n",
       "    <tr>\n",
       "        <th>Highpass</th>\n",
       "        <td>0.00 Hz</td>\n",
       "    </tr>\n",
       "    \n",
       "    \n",
       "    <tr>\n",
       "        <th>Lowpass</th>\n",
       "        <td>128.00 Hz</td>\n",
       "    </tr>\n",
       "    \n",
       "    \n",
       "</table>"
      ],
      "text/plain": [
       "<Info | 7 non-empty values\n",
       " bads: []\n",
       " ch_names: Patient Event, EOG LOC-M2, EOG ROC-M1, EMG Chin1-Chin2, EEG ...\n",
       " chs: 26 EEG\n",
       " custom_ref_applied: False\n",
       " highpass: 0.0 Hz\n",
       " lowpass: 128.0 Hz\n",
       " meas_date: 2001-01-01 18:42:23 UTC\n",
       " nchan: 26\n",
       " projs: []\n",
       " sfreq: 256.0 Hz\n",
       ">"
      ]
     },
     "execution_count": 16,
     "metadata": {},
     "output_type": "execute_result"
    }
   ],
   "source": [
    "rawedf.info"
   ]
  },
  {
   "cell_type": "code",
   "execution_count": 17,
   "metadata": {},
   "outputs": [
    {
     "data": {
      "text/plain": [
       "26"
      ]
     },
     "execution_count": 17,
     "metadata": {},
     "output_type": "execute_result"
    }
   ],
   "source": [
    "len(rawedf.ch_names)"
   ]
  },
  {
   "attachments": {},
   "cell_type": "markdown",
   "metadata": {},
   "source": [
    "* We can see that there are 26 channels.\n",
    "* The signals are sampled at 256Hz."
   ]
  },
  {
   "cell_type": "code",
   "execution_count": 18,
   "metadata": {},
   "outputs": [
    {
     "data": {
      "text/plain": [
       "['Patient Event',\n",
       " 'EOG LOC-M2',\n",
       " 'EOG ROC-M1',\n",
       " 'EMG Chin1-Chin2',\n",
       " 'EEG F3-M2',\n",
       " 'EEG F4-M1',\n",
       " 'EEG C3-M2',\n",
       " 'EEG C4-M1',\n",
       " 'EEG O1-M2',\n",
       " 'EEG O2-M1',\n",
       " 'EEG CZ-O1',\n",
       " 'EMG LLeg-RLeg',\n",
       " 'ECG EKG2-EKG',\n",
       " 'Snore',\n",
       " 'Resp PTAF',\n",
       " 'Resp Airflow',\n",
       " 'Resp Thoracic',\n",
       " 'Resp Abdominal',\n",
       " 'SpO2',\n",
       " 'Rate',\n",
       " 'EtCO2',\n",
       " 'Capno',\n",
       " 'Resp Rate',\n",
       " 'C-flow',\n",
       " 'Tidal Vol',\n",
       " 'Pressure']"
      ]
     },
     "execution_count": 18,
     "metadata": {},
     "output_type": "execute_result"
    }
   ],
   "source": [
    "rawedf.ch_names"
   ]
  },
  {
   "attachments": {},
   "cell_type": "markdown",
   "metadata": {},
   "source": [
    "#### Example Signal\n",
    "\n",
    "We visualize one of the EEG signals."
   ]
  },
  {
   "cell_type": "code",
   "execution_count": 19,
   "metadata": {},
   "outputs": [
    {
     "data": {
      "text/plain": [
       "(array([[-1.05955596e-03,  9.89730678e-04,  1.38841840e-03, ...,\n",
       "         -3.05180438e-08, -3.05180438e-08, -3.05180438e-08]]),\n",
       " array([0.00000000e+00, 3.90625000e-03, 7.81250000e-03, ...,\n",
       "        4.05479883e+04, 4.05479922e+04, 4.05479961e+04]))"
      ]
     },
     "execution_count": 19,
     "metadata": {},
     "output_type": "execute_result"
    }
   ],
   "source": [
    "signal = rawedf['EEG F3-M2']\n",
    "signal"
   ]
  },
  {
   "attachments": {},
   "cell_type": "markdown",
   "metadata": {},
   "source": [
    "Each channel consists of 2 arrays. The first array is the actual signal and the second array corresponds to the time point at which the signal was sampled."
   ]
  },
  {
   "cell_type": "code",
   "execution_count": 20,
   "metadata": {},
   "outputs": [],
   "source": [
    "%matplotlib inline"
   ]
  },
  {
   "cell_type": "code",
   "execution_count": 21,
   "metadata": {},
   "outputs": [
    {
     "data": {
      "text/plain": [
       "Text(0, 0.5, 'EEG Voltage')"
      ]
     },
     "execution_count": 21,
     "metadata": {},
     "output_type": "execute_result"
    },
    {
     "data": {
      "image/png": "[encoded data removed]",
      "text/plain": [
       "<Figure size 432x288 with 1 Axes>"
      ]
     },
     "metadata": {
      "needs_background": "light"
     },
     "output_type": "display_data"
    }
   ],
   "source": [
    "# First 100 samples from the signal\n",
    "xs = signal[1][0:100]\n",
    "ys = signal[0][0][0:100]\n",
    "\n",
    "plt.figure()\n",
    "plt.plot(xs, ys)\n",
    "plt.xlabel('Time (s)')\n",
    "plt.ylabel('EEG Voltage')\n"
   ]
  },
  {
   "attachments": {},
   "cell_type": "markdown",
   "metadata": {},
   "source": [
    "## Extracting signals from the EDF files\n",
    "\n",
    "While there are many channels we can use, for this competition, we use the channel 'EEG F3-M2'. The diagram below shows where on the scalp this signal is recorded."
   ]
  },
  {
   "attachments": {},
   "cell_type": "markdown",
   "metadata": {},
   "source": [
    "We first extract the channel 'EEG F3-M2' from each of the edf files and save them as .npy files. The following script does just that.\n",
    "\n",
    "```\n",
    "make_npy.py\n",
    "```\n",
    "This script takes 3 arguments:\n",
    "* *input_dir*: Path to directory containing the raw edf files.\n",
    "* *output_dir*: Path to directory to store the npy files.\n",
    "* *channel*: The channel to use. Defaults to 'EEG F3-M2'"
   ]
  },
  {
   "attachments": {},
   "cell_type": "markdown",
   "metadata": {},
   "source": [
    "#### Output\n",
    "\n",
    "Once we run the script above, we should see a .npy file corresponding to each .edf file."
   ]
  },
  {
   "cell_type": "code",
   "execution_count": 22,
   "metadata": {},
   "outputs": [
    {
     "data": {
      "text/plain": [
       "['10_22339.npy',\n",
       " '16_24241.npy',\n",
       " '1_4789.npy',\n",
       " '22_23233.npy',\n",
       " '25_10579.npy',\n",
       " '25_18085.npy',\n",
       " '28_15280.npy',\n",
       " '31_4429.npy',\n",
       " '37_14779.npy',\n",
       " '7_12595.npy',\n",
       " '40_14503.npy',\n",
       " '43_175.npy',\n",
       " '46_11305.npy',\n",
       " '55_6112.npy',\n",
       " '61_19477.npy',\n",
       " '64_14908.npy',\n",
       " '64_25396.npy',\n",
       " '67_5998.npy',\n",
       " '70_20743.npy',\n",
       " '82_20809.npy']"
      ]
     },
     "execution_count": 22,
     "metadata": {},
     "output_type": "execute_result"
    }
   ],
   "source": [
    "full_npy_path = '/workspace/Competition/PSG/data/npy/full/eeg_f3_m2'\n",
    "full_npy_files = os.listdir(full_npy_path)\n",
    "full_npy_files"
   ]
  },
  {
   "attachments": {},
   "cell_type": "markdown",
   "metadata": {},
   "source": [
    "We take a quick look at the first file:"
   ]
  },
  {
   "cell_type": "code",
   "execution_count": 23,
   "metadata": {},
   "outputs": [
    {
     "data": {
      "text/plain": [
       "array([-1.05955596e-03,  9.89730678e-04,  1.38841840e-03, ...,\n",
       "       -3.05180438e-08, -3.05180438e-08, -3.05180438e-08])"
      ]
     },
     "execution_count": 23,
     "metadata": {},
     "output_type": "execute_result"
    }
   ],
   "source": [
    "ex_path = os.path.join(full_npy_path, '10_22339.npy')\n",
    "ex_npy = np.load(ex_path)\n",
    "\n",
    "ex_npy"
   ]
  },
  {
   "cell_type": "code",
   "execution_count": 24,
   "metadata": {},
   "outputs": [
    {
     "data": {
      "text/plain": [
       "10380288"
      ]
     },
     "execution_count": 24,
     "metadata": {},
     "output_type": "execute_result"
    }
   ],
   "source": [
    "len(ex_npy)"
   ]
  },
  {
   "attachments": {},
   "cell_type": "markdown",
   "metadata": {},
   "source": [
    "We can see that we have the raw signal (EEG F3-M2) of the recording '10_22339' stored in a numpy array."
   ]
  },
  {
   "attachments": {},
   "cell_type": "markdown",
   "metadata": {},
   "source": [
    "## Split and label npy files\n",
    "\n",
    "Now that we have extracted the signal we want, we must split the .npy files into smaller subsignals that are used as the train and test data. For this competition task, we will use 90 second windows (there will be 30 seconds both before and after the window of interest).\n",
    "\n",
    "The following script loads each .tsv file and corresponding .npy file and then extracts 90 seconds of the raw eeg signal along with the label (sleep stage) of the middle 30 seconds. It saves each 90 second signal as a separate .npy file. In addition, because the resulting data files were too large, we decided to downsample the raw signals from 256Hz to 128Hz. The script also down samples the signals.\n",
    "\n",
    "```\n",
    "label_split_npy.py\n",
    "```\n",
    "\n",
    "It takes 4 arguments:\n",
    "* tsv_dir: Path to directory containing the .tsv files.\n",
    "* npy_dir: Path to directory containing the .npy files.\n",
    "* output_dir: Path to directory to save the output files.\n",
    "* num_window: Number of windows to use. Either 1 or 3. 1 means 30 seconds and 3 means 90 seconds.\n",
    "* down_sample_factor: Factor to  down sample by. Either 1,2, or 3. 1 means original signal.\n",
    "\n",
    "It will save files so that the label (sleep stage) of the given window is in the name of the file."
   ]
  },
  {
   "attachments": {},
   "cell_type": "markdown",
   "metadata": {},
   "source": [
    "We take a look at the output:"
   ]
  },
  {
   "cell_type": "code",
   "execution_count": 37,
   "metadata": {},
   "outputs": [
    {
     "data": {
      "text/plain": [
       "['10_22339_W_0.npy',\n",
       " '10_22339_W_1.npy',\n",
       " '10_22339_W_2.npy',\n",
       " '10_22339_W_3.npy',\n",
       " '10_22339_W_4.npy',\n",
       " '10_22339_W_5.npy',\n",
       " '10_22339_W_6.npy',\n",
       " '10_22339_W_7.npy',\n",
       " '10_22339_W_8.npy',\n",
       " '10_22339_W_9.npy',\n",
       " '10_22339_W_10.npy',\n",
       " '10_22339_W_11.npy',\n",
       " '10_22339_W_12.npy',\n",
       " '10_22339_W_13.npy',\n",
       " '10_22339_W_14.npy',\n",
       " '10_22339_W_15.npy',\n",
       " '10_22339_W_16.npy',\n",
       " '10_22339_W_17.npy',\n",
       " '10_22339_W_18.npy',\n",
       " '10_22339_W_19.npy']"
      ]
     },
     "execution_count": 37,
     "metadata": {},
     "output_type": "execute_result"
    }
   ],
   "source": [
    "npy90_path = '/workspace/Competition/PSG/data/npy/split90'\n",
    "npy90_files = os.listdir(npy90_path)\n",
    "\n",
    "npy90_files[0:20]"
   ]
  },
  {
   "attachments": {},
   "cell_type": "markdown",
   "metadata": {},
   "source": [
    "We can see that each file starts with the original recording name, followed by an underscore and the stage, and then another underscore with a counter indicating whether it was the 1st or 2nd or 3rd (so on and so forth) incident of that given stage.\n",
    "\n",
    "We load one and check it:"
   ]
  },
  {
   "cell_type": "code",
   "execution_count": 38,
   "metadata": {},
   "outputs": [
    {
     "data": {
      "text/plain": [
       "array([ 2.11490043e-05,  8.88075074e-06,  3.40886549e-05, ...,\n",
       "       -5.40169375e-06, -5.34065766e-06, -3.62249180e-05])"
      ]
     },
     "execution_count": 38,
     "metadata": {},
     "output_type": "execute_result"
    }
   ],
   "source": [
    "test_npy = np.load('/workspace/Competition/PSG/data/npy/split90/1_4789_N1_0.npy')\n",
    "test_npy"
   ]
  },
  {
   "cell_type": "code",
   "execution_count": 39,
   "metadata": {},
   "outputs": [
    {
     "data": {
      "text/plain": [
       "90.0"
      ]
     },
     "execution_count": 39,
     "metadata": {},
     "output_type": "execute_result"
    }
   ],
   "source": [
    "len(test_npy) / 128"
   ]
  },
  {
   "attachments": {},
   "cell_type": "markdown",
   "metadata": {},
   "source": [
    "We can see that the signal corresponds to 90 seconds (128 is the sampling rate of the signal). Below is a plot of the signal:"
   ]
  },
  {
   "cell_type": "code",
   "execution_count": 40,
   "metadata": {},
   "outputs": [
    {
     "data": {
      "text/plain": [
       "[<matplotlib.lines.Line2D at 0x7f0e047966a0>]"
      ]
     },
     "execution_count": 40,
     "metadata": {},
     "output_type": "execute_result"
    },
    {
     "data": {
      "image/png": "[encoded data removed]",
      "text/plain": [
       "<Figure size 1440x576 with 1 Axes>"
      ]
     },
     "metadata": {
      "needs_background": "light"
     },
     "output_type": "display_data"
    }
   ],
   "source": [
    "xs = np.arange(0,90, 1/128)\n",
    "\n",
    "plt.figure(figsize=(20,8))\n",
    "plt.plot(xs, test_npy, lw=0.3)"
   ]
  },
  {
   "attachments": {},
   "cell_type": "markdown",
   "metadata": {},
   "source": [
    "## Splitting the data into train and test\n",
    "\n",
    "Now that all the data files have been made, we need to split the dataset into train and test sets. This can be done with the following script:\n",
    "\n",
    "```\n",
    "split_data.py\n",
    "```\n",
    "\n",
    "It takes 2 arguments:\n",
    "* *input_dir*: Path to directory containing split .npy files.\n",
    "* *output_dir*: Path to save train and test files.\n",
    "\n",
    "Note:\n",
    "* The files will have completely encoded names.\n",
    "* The script outputs a 'keydf.csv' file that contains the original file name, encoded file name, and whether the file is part of the train or test set.\n",
    "* The script also ouputs a 'train_labels.csv' file that has the encoded file names along with the labels(sleep stages)."
   ]
  },
  {
   "attachments": {},
   "cell_type": "markdown",
   "metadata": {},
   "source": [
    "Let's take a look at the files:"
   ]
  },
  {
   "cell_type": "code",
   "execution_count": 41,
   "metadata": {},
   "outputs": [
    {
     "data": {
      "text/plain": [
       "['IsCItLdHYS.npy',\n",
       " 'AROuZa34WB.npy',\n",
       " 'X44xsz9e7A.npy',\n",
       " 'kadoREAeRh.npy',\n",
       " 'JyOCr7c2IO.npy',\n",
       " '6R0SVuIBsf.npy',\n",
       " 'Kl8WgAzW9C.npy',\n",
       " '4Z3iZVVPxn.npy',\n",
       " 'T20vquOG7g.npy',\n",
       " 'QzA2yOnIWC.npy']"
      ]
     },
     "execution_count": 41,
     "metadata": {},
     "output_type": "execute_result"
    }
   ],
   "source": [
    "train_dir = '/workspace/Competition/PSG/data/final/train'\n",
    "train_files = os.listdir(train_dir)\n",
    "\n",
    "train_files[0:10]"
   ]
  },
  {
   "attachments": {},
   "cell_type": "markdown",
   "metadata": {},
   "source": [
    "As we can see, the same .npy files containing 90 secod EEG signals have encoded names now."
   ]
  },
  {
   "cell_type": "code",
   "execution_count": 42,
   "metadata": {},
   "outputs": [
    {
     "data": {
      "text/html": [
       "<div>\n",
       "<style scoped>\n",
       "    .dataframe tbody tr th:only-of-type {\n",
       "        vertical-align: middle;\n",
       "    }\n",
       "\n",
       "    .dataframe tbody tr th {\n",
       "        vertical-align: top;\n",
       "    }\n",
       "\n",
       "    .dataframe thead th {\n",
       "        text-align: right;\n",
       "    }\n",
       "</style>\n",
       "<table border=\"1\" class=\"dataframe\">\n",
       "  <thead>\n",
       "    <tr style=\"text-align: right;\">\n",
       "      <th></th>\n",
       "      <th>file_id</th>\n",
       "      <th>encoded_id</th>\n",
       "      <th>train</th>\n",
       "    </tr>\n",
       "  </thead>\n",
       "  <tbody>\n",
       "    <tr>\n",
       "      <th>0</th>\n",
       "      <td>10_22339_W_0.npy</td>\n",
       "      <td>IsCItLdHYS.npy</td>\n",
       "      <td>True</td>\n",
       "    </tr>\n",
       "    <tr>\n",
       "      <th>1</th>\n",
       "      <td>10_22339_W_1.npy</td>\n",
       "      <td>AROuZa34WB.npy</td>\n",
       "      <td>True</td>\n",
       "    </tr>\n",
       "    <tr>\n",
       "      <th>2</th>\n",
       "      <td>10_22339_W_2.npy</td>\n",
       "      <td>ODJ0HKc0Vq.npy</td>\n",
       "      <td>False</td>\n",
       "    </tr>\n",
       "    <tr>\n",
       "      <th>3</th>\n",
       "      <td>10_22339_W_3.npy</td>\n",
       "      <td>X44xsz9e7A.npy</td>\n",
       "      <td>True</td>\n",
       "    </tr>\n",
       "    <tr>\n",
       "      <th>4</th>\n",
       "      <td>10_22339_W_4.npy</td>\n",
       "      <td>kadoREAeRh.npy</td>\n",
       "      <td>True</td>\n",
       "    </tr>\n",
       "  </tbody>\n",
       "</table>\n",
       "</div>"
      ],
      "text/plain": [
       "            file_id      encoded_id  train\n",
       "0  10_22339_W_0.npy  IsCItLdHYS.npy   True\n",
       "1  10_22339_W_1.npy  AROuZa34WB.npy   True\n",
       "2  10_22339_W_2.npy  ODJ0HKc0Vq.npy  False\n",
       "3  10_22339_W_3.npy  X44xsz9e7A.npy   True\n",
       "4  10_22339_W_4.npy  kadoREAeRh.npy   True"
      ]
     },
     "execution_count": 42,
     "metadata": {},
     "output_type": "execute_result"
    }
   ],
   "source": [
    "keydf = pd.read_csv('/workspace/Competition/PSG/data/final/keydf.csv')\n",
    "keydf.head()"
   ]
  },
  {
   "attachments": {},
   "cell_type": "markdown",
   "metadata": {},
   "source": [
    "The 'keydf.csv' contains the original file name, the changed file name, and a boolean indicator of whether the file is a part of the train or test set."
   ]
  },
  {
   "cell_type": "code",
   "execution_count": 43,
   "metadata": {},
   "outputs": [
    {
     "data": {
      "text/html": [
       "<div>\n",
       "<style scoped>\n",
       "    .dataframe tbody tr th:only-of-type {\n",
       "        vertical-align: middle;\n",
       "    }\n",
       "\n",
       "    .dataframe tbody tr th {\n",
       "        vertical-align: top;\n",
       "    }\n",
       "\n",
       "    .dataframe thead th {\n",
       "        text-align: right;\n",
       "    }\n",
       "</style>\n",
       "<table border=\"1\" class=\"dataframe\">\n",
       "  <thead>\n",
       "    <tr style=\"text-align: right;\">\n",
       "      <th></th>\n",
       "      <th>rec_id</th>\n",
       "      <th>stage</th>\n",
       "    </tr>\n",
       "  </thead>\n",
       "  <tbody>\n",
       "    <tr>\n",
       "      <th>0</th>\n",
       "      <td>IsCItLdHYS.npy</td>\n",
       "      <td>W</td>\n",
       "    </tr>\n",
       "    <tr>\n",
       "      <th>1</th>\n",
       "      <td>AROuZa34WB.npy</td>\n",
       "      <td>W</td>\n",
       "    </tr>\n",
       "    <tr>\n",
       "      <th>2</th>\n",
       "      <td>X44xsz9e7A.npy</td>\n",
       "      <td>W</td>\n",
       "    </tr>\n",
       "    <tr>\n",
       "      <th>3</th>\n",
       "      <td>kadoREAeRh.npy</td>\n",
       "      <td>W</td>\n",
       "    </tr>\n",
       "    <tr>\n",
       "      <th>4</th>\n",
       "      <td>JyOCr7c2IO.npy</td>\n",
       "      <td>W</td>\n",
       "    </tr>\n",
       "  </tbody>\n",
       "</table>\n",
       "</div>"
      ],
      "text/plain": [
       "           rec_id stage\n",
       "0  IsCItLdHYS.npy     W\n",
       "1  AROuZa34WB.npy     W\n",
       "2  X44xsz9e7A.npy     W\n",
       "3  kadoREAeRh.npy     W\n",
       "4  JyOCr7c2IO.npy     W"
      ]
     },
     "execution_count": 43,
     "metadata": {},
     "output_type": "execute_result"
    }
   ],
   "source": [
    "train_labels = pd.read_csv('/workspace/Competition/PSG/data/final/train_labels.csv')\n",
    "train_labels.head()"
   ]
  },
  {
   "attachments": {},
   "cell_type": "markdown",
   "metadata": {},
   "source": [
    "As the name suggests, the 'train_labels.csv' file contains the labels for the train data."
   ]
  },
  {
   "attachments": {},
   "cell_type": "markdown",
   "metadata": {},
   "source": [
    "## Summary\n",
    "\n",
    "In this notebook, we processed the raw data and made files for a competition:\n",
    "* EDA of raw files.\n",
    "* Convert .edf files to .npy files\n",
    "* Split data into train and test data, and make key files in csv format.\n",
    "\n",
    "This is only the first part of preparing an AI competition. The next steps are as follows:\n",
    "* Train a baseline model that participants can use / refer to. The baseline model can be found [here]().\n",
    "* Prepare files for evaluating participant submissions. The details of this step can be found in this [notebook]()."
   ]
  }
 ],
 "metadata": {
  "kernelspec": {
   "display_name": "Python 3 (ipykernel)",
   "language": "python",
   "name": "python3"
  },
  "language_info": {
   "codemirror_mode": {
    "name": "ipython",
    "version": 3
   },
   "file_extension": ".py",
   "mimetype": "text/x-python",
   "name": "python",
   "nbconvert_exporter": "python",
   "pygments_lexer": "ipython3",
   "version": "3.9.13"
  },
  "orig_nbformat": 4
 },
 "nbformat": 4,
 "nbformat_minor": 2
}
