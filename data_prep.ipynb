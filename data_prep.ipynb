{
 "cells": [
  {
   "attachments": {},
   "cell_type": "markdown",
   "metadata": {},
   "source": [
    "# Data Prep\n",
    "\n",
    "This notebook details the steps taken to process the raw data into the train and test data that was used for the competition."
   ]
  },
  {
   "cell_type": "code",
   "execution_count": 30,
   "metadata": {},
   "outputs": [],
   "source": [
    "import os\n",
    "import numpy\n",
    "import pandas as pd\n",
    "import mne\n",
    "import scipy.stats as stats"
   ]
  },
  {
   "attachments": {},
   "cell_type": "markdown",
   "metadata": {},
   "source": [
    "## Examining the Raw Data\n",
    "\n",
    "### Data Files"
   ]
  },
  {
   "cell_type": "code",
   "execution_count": 2,
   "metadata": {},
   "outputs": [],
   "source": [
    "raw_path = '/workspace/Competition/PSG/data/raw'\n",
    "raw_files = os.listdir(raw_path)"
   ]
  },
  {
   "cell_type": "code",
   "execution_count": 3,
   "metadata": {},
   "outputs": [
    {
     "name": "stdout",
     "output_type": "stream",
     "text": [
      "40\n"
     ]
    }
   ],
   "source": [
    "print(len(raw_files))"
   ]
  },
  {
   "cell_type": "code",
   "execution_count": 4,
   "metadata": {},
   "outputs": [
    {
     "data": {
      "text/plain": [
       "['10_22339.edf',\n",
       " '10_22339.tsv',\n",
       " '16_24241.edf',\n",
       " '16_24241.tsv',\n",
       " '1_4789.edf',\n",
       " '1_4789.tsv',\n",
       " '22_23233.edf',\n",
       " '22_23233.tsv',\n",
       " '25_10579.edf',\n",
       " '25_10579.tsv']"
      ]
     },
     "execution_count": 4,
     "metadata": {},
     "output_type": "execute_result"
    }
   ],
   "source": [
    "raw_files[0:10]"
   ]
  },
  {
   "attachments": {},
   "cell_type": "markdown",
   "metadata": {},
   "source": [
    "We have 2 different types of data files:\n",
    "* tsv files\n",
    "* edf files"
   ]
  },
  {
   "cell_type": "code",
   "execution_count": 8,
   "metadata": {},
   "outputs": [
    {
     "data": {
      "text/plain": [
       "(20, 20)"
      ]
     },
     "execution_count": 8,
     "metadata": {},
     "output_type": "execute_result"
    }
   ],
   "source": [
    "tsv_files = [x for x in raw_files if x.endswith('.tsv')]\n",
    "edf_files = [x for x in raw_files if x.endswith('.edf')]\n",
    "\n",
    "len(tsv_files), len(edf_files)"
   ]
  },
  {
   "attachments": {},
   "cell_type": "markdown",
   "metadata": {},
   "source": [
    "There are 20 of each."
   ]
  },
  {
   "cell_type": "code",
   "execution_count": 9,
   "metadata": {},
   "outputs": [
    {
     "data": {
      "text/plain": [
       "20"
      ]
     },
     "execution_count": 9,
     "metadata": {},
     "output_type": "execute_result"
    }
   ],
   "source": [
    "# Sort the two lists\n",
    "tsv_files.sort()\n",
    "edf_files.sort()\n",
    "\n",
    "# Check if the names of the files match\n",
    "sum([x.split('.')[0] == y.split('.')[0] for x,y in zip(tsv_files, edf_files)])"
   ]
  },
  {
   "attachments": {},
   "cell_type": "markdown",
   "metadata": {},
   "source": [
    "We can see that there is a corresponding edf file for each tsv file."
   ]
  },
  {
   "attachments": {},
   "cell_type": "markdown",
   "metadata": {},
   "source": [
    "### tsv files"
   ]
  },
  {
   "cell_type": "code",
   "execution_count": 12,
   "metadata": {},
   "outputs": [
    {
     "data": {
      "text/html": [
       "<div>\n",
       "<style scoped>\n",
       "    .dataframe tbody tr th:only-of-type {\n",
       "        vertical-align: middle;\n",
       "    }\n",
       "\n",
       "    .dataframe tbody tr th {\n",
       "        vertical-align: top;\n",
       "    }\n",
       "\n",
       "    .dataframe thead th {\n",
       "        text-align: right;\n",
       "    }\n",
       "</style>\n",
       "<table border=\"1\" class=\"dataframe\">\n",
       "  <thead>\n",
       "    <tr style=\"text-align: right;\">\n",
       "      <th></th>\n",
       "      <th>onset</th>\n",
       "      <th>duration</th>\n",
       "      <th>description</th>\n",
       "    </tr>\n",
       "  </thead>\n",
       "  <tbody>\n",
       "    <tr>\n",
       "      <th>0</th>\n",
       "      <td>0.496094</td>\n",
       "      <td>0.0</td>\n",
       "      <td>Start Recording</td>\n",
       "    </tr>\n",
       "    <tr>\n",
       "      <th>1</th>\n",
       "      <td>0.496094</td>\n",
       "      <td>0.0</td>\n",
       "      <td>Montage:NCH_PSG_STANDARD, Ref</td>\n",
       "    </tr>\n",
       "    <tr>\n",
       "      <th>2</th>\n",
       "      <td>0.496094</td>\n",
       "      <td>0.0</td>\n",
       "      <td>Montage:NCH_PSG_STANDARD, Ref</td>\n",
       "    </tr>\n",
       "    <tr>\n",
       "      <th>3</th>\n",
       "      <td>0.687500</td>\n",
       "      <td>0.0</td>\n",
       "      <td>Recording Analyzer - ECG</td>\n",
       "    </tr>\n",
       "    <tr>\n",
       "      <th>4</th>\n",
       "      <td>1.023438</td>\n",
       "      <td>0.0</td>\n",
       "      <td>Video Recording ON</td>\n",
       "    </tr>\n",
       "    <tr>\n",
       "      <th>5</th>\n",
       "      <td>32.007812</td>\n",
       "      <td>0.0</td>\n",
       "      <td>Montage:Channel Test Referential</td>\n",
       "    </tr>\n",
       "    <tr>\n",
       "      <th>6</th>\n",
       "      <td>32.007812</td>\n",
       "      <td>0.0</td>\n",
       "      <td>Montage:Channel Test Referential</td>\n",
       "    </tr>\n",
       "    <tr>\n",
       "      <th>7</th>\n",
       "      <td>91.832031</td>\n",
       "      <td>0.0</td>\n",
       "      <td>Montage:NCH_PSG_STANDARD</td>\n",
       "    </tr>\n",
       "    <tr>\n",
       "      <th>8</th>\n",
       "      <td>91.832031</td>\n",
       "      <td>0.0</td>\n",
       "      <td>Montage:NCH_PSG_STANDARD</td>\n",
       "    </tr>\n",
       "    <tr>\n",
       "      <th>9</th>\n",
       "      <td>3094.042969</td>\n",
       "      <td>0.0</td>\n",
       "      <td>Impedance at 10 kOhm</td>\n",
       "    </tr>\n",
       "  </tbody>\n",
       "</table>\n",
       "</div>"
      ],
      "text/plain": [
       "         onset  duration                       description\n",
       "0     0.496094       0.0                   Start Recording\n",
       "1     0.496094       0.0     Montage:NCH_PSG_STANDARD, Ref\n",
       "2     0.496094       0.0     Montage:NCH_PSG_STANDARD, Ref\n",
       "3     0.687500       0.0          Recording Analyzer - ECG\n",
       "4     1.023438       0.0                Video Recording ON\n",
       "5    32.007812       0.0  Montage:Channel Test Referential\n",
       "6    32.007812       0.0  Montage:Channel Test Referential\n",
       "7    91.832031       0.0          Montage:NCH_PSG_STANDARD\n",
       "8    91.832031       0.0          Montage:NCH_PSG_STANDARD\n",
       "9  3094.042969       0.0              Impedance at 10 kOhm"
      ]
     },
     "execution_count": 12,
     "metadata": {},
     "output_type": "execute_result"
    }
   ],
   "source": [
    "data = pd.read_csv(os.path.join(raw_path, tsv_files[0]), delimiter='\\t')\n",
    "\n",
    "data.head(10)"
   ]
  },
  {
   "attachments": {},
   "cell_type": "markdown",
   "metadata": {},
   "source": [
    "As we can see, there are 3 columns to a tsv file:\n",
    "* onset: The time point at which a specific event begins.\n",
    "* duration: The duration of that given event.\n",
    "* description: The type of event that occurs."
   ]
  },
  {
   "cell_type": "code",
   "execution_count": 17,
   "metadata": {},
   "outputs": [
    {
     "data": {
      "text/plain": [
       "array(['Start Recording', 'Montage:NCH_PSG_STANDARD, Ref',\n",
       "       'Recording Analyzer - ECG', 'Video Recording ON',\n",
       "       'Montage:Channel Test Referential', 'Montage:NCH_PSG_STANDARD',\n",
       "       'Impedance at 10 kOhm', 'Body Position: Supine',\n",
       "       'bed flat for biocals eyes open', 'eyes closed', 'eyes open',\n",
       "       'eyes closed up and down', 'eyes closed left and right', 'blinks',\n",
       "       'chew', 'loud snores', 'nasal breathing', 'oral breathing',\n",
       "       'breath hold', 'left foot flex', 'right foot flex', 'biocals done',\n",
       "       'bed flat controls locked one pillow in use', 'Sleep stage W',\n",
       "       'Lights Off', 'Started Analyzer - ECG',\n",
       "       'Started Analyzer - Data Trends',\n",
       "       'Started Analyzer - Sleep Events', 'Body Position: Left',\n",
       "       'Oxygen Desaturation',\n",
       "       'pt has pushed pillow totally out from under her head',\n",
       "       'sleep onset soft snores', 'Sleep stage N1', 'Sleep stage N2',\n",
       "       'jerk', 'soft snores', 'Sleep stage N3', 'EEG arousal', 'move',\n",
       "       'threw covers off', 'shaking head', 'Body Position: Prone',\n",
       "       'soft to medium snores', 'Gain/Filter Change', 'stretching', 'REM',\n",
       "       'Sleep stage R', 'Hypopnea',\n",
       "       'checking leg leads and moving pulse ox wire', 'adjusted covers',\n",
       "       'adjusting covers', 'teck in', 'head mvmt',\n",
       "       'checking cannula placement', 'medium to loud snores',\n",
       "       'desat to 89', 'Body Position: Right', 'mom talking to pt',\n",
       "       'Lights On', 'Stopped Analyzer - Data Trends',\n",
       "       'Stopped Analyzer - Sleep Events', 'CBG', 'Sleep stage ?'],\n",
       "      dtype=object)"
      ]
     },
     "execution_count": 17,
     "metadata": {},
     "output_type": "execute_result"
    }
   ],
   "source": [
    "data['description'].unique()"
   ]
  },
  {
   "cell_type": "code",
   "execution_count": 19,
   "metadata": {},
   "outputs": [
    {
     "data": {
      "text/plain": [
       "Sleep stage N2                                          439\n",
       "Sleep stage N3                                          196\n",
       "Sleep stage R                                           157\n",
       "Sleep stage W                                           119\n",
       "Sleep stage ?                                            68\n",
       "                                                       ... \n",
       "Started Analyzer - ECG                                    1\n",
       "Started Analyzer - Data Trends                            1\n",
       "Started Analyzer - Sleep Events                           1\n",
       "pt has pushed pillow totally out from under her head      1\n",
       "sleep onset soft snores                                   1\n",
       "Name: description, Length: 63, dtype: int64"
      ]
     },
     "execution_count": 19,
     "metadata": {},
     "output_type": "execute_result"
    }
   ],
   "source": [
    "data['description'].value_counts()"
   ]
  },
  {
   "attachments": {},
   "cell_type": "markdown",
   "metadata": {},
   "source": [
    "As we can see, there are various types of events that have been labelled. Of those events, those important to us are:\n",
    "* Sleep stage N1\n",
    "* Sleep stage N2\n",
    "* Sleep stage N3\n",
    "* Sleep stage R\n",
    "* Sleep stage W\n",
    "\n",
    "We compile information about the sleep stages from all of the tsv files."
   ]
  },
  {
   "cell_type": "code",
   "execution_count": 47,
   "metadata": {},
   "outputs": [],
   "source": [
    "sleep_stages = []\n",
    "stage_durations = []\n",
    "stage_onsets = []\n",
    "recs = []\n",
    "inds = []\n",
    "isend = []\n",
    "\n",
    "for rec in tsv_files:\n",
    "    recpath = os.path.join(raw_path, rec)\n",
    "    data = pd.read_csv(recpath, delimiter='\\t')\n",
    "    descriptions = list(data['description'])\n",
    "    durations = list(data['duration'])\n",
    "    onsets = list(data['onset'])\n",
    "    for i in range(len(data)):\n",
    "        if 'Sleep stage' in descriptions[i]:\n",
    "            sleep_stages.append(descriptions[i])\n",
    "            stage_durations.append(durations[i])\n",
    "            stage_onsets.append(onsets[i])\n",
    "            recs.append(rec)\n",
    "            inds.append(i)\n",
    "            if i == len(data)-1:\n",
    "                isend.append(True)\n",
    "            else:\n",
    "                isend.append(False)\n",
    "\n",
    "compiled_df = pd.DataFrame({'stage':sleep_stages,'dur':stage_durations,'onset':stage_onsets,'rec':recs, 'ind':inds, 'end':isend})"
   ]
  },
  {
   "cell_type": "code",
   "execution_count": 48,
   "metadata": {},
   "outputs": [
    {
     "data": {
      "text/html": [
       "<div>\n",
       "<style scoped>\n",
       "    .dataframe tbody tr th:only-of-type {\n",
       "        vertical-align: middle;\n",
       "    }\n",
       "\n",
       "    .dataframe tbody tr th {\n",
       "        vertical-align: top;\n",
       "    }\n",
       "\n",
       "    .dataframe thead th {\n",
       "        text-align: right;\n",
       "    }\n",
       "</style>\n",
       "<table border=\"1\" class=\"dataframe\">\n",
       "  <thead>\n",
       "    <tr style=\"text-align: right;\">\n",
       "      <th></th>\n",
       "      <th>stage</th>\n",
       "      <th>dur</th>\n",
       "      <th>onset</th>\n",
       "      <th>rec</th>\n",
       "      <th>ind</th>\n",
       "      <th>end</th>\n",
       "    </tr>\n",
       "  </thead>\n",
       "  <tbody>\n",
       "    <tr>\n",
       "      <th>0</th>\n",
       "      <td>Sleep stage W</td>\n",
       "      <td>30.0</td>\n",
       "      <td>10530.460938</td>\n",
       "      <td>10_22339.tsv</td>\n",
       "      <td>30</td>\n",
       "      <td>False</td>\n",
       "    </tr>\n",
       "    <tr>\n",
       "      <th>1</th>\n",
       "      <td>Sleep stage W</td>\n",
       "      <td>30.0</td>\n",
       "      <td>10560.460938</td>\n",
       "      <td>10_22339.tsv</td>\n",
       "      <td>35</td>\n",
       "      <td>False</td>\n",
       "    </tr>\n",
       "    <tr>\n",
       "      <th>2</th>\n",
       "      <td>Sleep stage W</td>\n",
       "      <td>30.0</td>\n",
       "      <td>10590.460938</td>\n",
       "      <td>10_22339.tsv</td>\n",
       "      <td>37</td>\n",
       "      <td>False</td>\n",
       "    </tr>\n",
       "    <tr>\n",
       "      <th>3</th>\n",
       "      <td>Sleep stage W</td>\n",
       "      <td>30.0</td>\n",
       "      <td>10620.460938</td>\n",
       "      <td>10_22339.tsv</td>\n",
       "      <td>38</td>\n",
       "      <td>False</td>\n",
       "    </tr>\n",
       "    <tr>\n",
       "      <th>4</th>\n",
       "      <td>Sleep stage W</td>\n",
       "      <td>30.0</td>\n",
       "      <td>10650.460938</td>\n",
       "      <td>10_22339.tsv</td>\n",
       "      <td>39</td>\n",
       "      <td>False</td>\n",
       "    </tr>\n",
       "  </tbody>\n",
       "</table>\n",
       "</div>"
      ],
      "text/plain": [
       "           stage   dur         onset           rec  ind    end\n",
       "0  Sleep stage W  30.0  10530.460938  10_22339.tsv   30  False\n",
       "1  Sleep stage W  30.0  10560.460938  10_22339.tsv   35  False\n",
       "2  Sleep stage W  30.0  10590.460938  10_22339.tsv   37  False\n",
       "3  Sleep stage W  30.0  10620.460938  10_22339.tsv   38  False\n",
       "4  Sleep stage W  30.0  10650.460938  10_22339.tsv   39  False"
      ]
     },
     "execution_count": 48,
     "metadata": {},
     "output_type": "execute_result"
    }
   ],
   "source": [
    "compiled_df.head()"
   ]
  },
  {
   "attachments": {},
   "cell_type": "markdown",
   "metadata": {},
   "source": [
    "We first check to see the durations of the sleep stage events."
   ]
  },
  {
   "cell_type": "code",
   "execution_count": 49,
   "metadata": {},
   "outputs": [
    {
     "data": {
      "text/plain": [
       "30.000000    20901\n",
       "17.539062        1\n",
       "3.019531         1\n",
       "27.675781        1\n",
       "11.445312        1\n",
       "20.000000        1\n",
       "5.335938         1\n",
       "23.359375        1\n",
       "29.074219        1\n",
       "27.300781        1\n",
       "19.253906        1\n",
       "23.683594        1\n",
       "17.425781        1\n",
       "19.351562        1\n",
       "9.324219         1\n",
       "23.597656        1\n",
       "13.238281        1\n",
       "25.738281        1\n",
       "17.132812        1\n",
       "21.160156        1\n",
       "Name: dur, dtype: int64"
      ]
     },
     "execution_count": 49,
     "metadata": {},
     "output_type": "execute_result"
    }
   ],
   "source": [
    "compiled_df['dur'].value_counts()"
   ]
  },
  {
   "cell_type": "code",
   "execution_count": 51,
   "metadata": {},
   "outputs": [
    {
     "data": {
      "text/html": [
       "<div>\n",
       "<style scoped>\n",
       "    .dataframe tbody tr th:only-of-type {\n",
       "        vertical-align: middle;\n",
       "    }\n",
       "\n",
       "    .dataframe tbody tr th {\n",
       "        vertical-align: top;\n",
       "    }\n",
       "\n",
       "    .dataframe thead th {\n",
       "        text-align: right;\n",
       "    }\n",
       "</style>\n",
       "<table border=\"1\" class=\"dataframe\">\n",
       "  <thead>\n",
       "    <tr style=\"text-align: right;\">\n",
       "      <th></th>\n",
       "      <th>stage</th>\n",
       "      <th>dur</th>\n",
       "      <th>onset</th>\n",
       "      <th>rec</th>\n",
       "      <th>ind</th>\n",
       "      <th>end</th>\n",
       "    </tr>\n",
       "  </thead>\n",
       "  <tbody>\n",
       "    <tr>\n",
       "      <th>0</th>\n",
       "      <td>Sleep stage ?</td>\n",
       "      <td>17.539062</td>\n",
       "      <td>40530.460938</td>\n",
       "      <td>10_22339.tsv</td>\n",
       "      <td>1222</td>\n",
       "      <td>True</td>\n",
       "    </tr>\n",
       "    <tr>\n",
       "      <th>1</th>\n",
       "      <td>Sleep stage ?</td>\n",
       "      <td>17.132812</td>\n",
       "      <td>36270.867188</td>\n",
       "      <td>16_24241.tsv</td>\n",
       "      <td>1158</td>\n",
       "      <td>True</td>\n",
       "    </tr>\n",
       "    <tr>\n",
       "      <th>2</th>\n",
       "      <td>Sleep stage ?</td>\n",
       "      <td>25.738281</td>\n",
       "      <td>34650.261719</td>\n",
       "      <td>1_4789.tsv</td>\n",
       "      <td>1134</td>\n",
       "      <td>True</td>\n",
       "    </tr>\n",
       "    <tr>\n",
       "      <th>3</th>\n",
       "      <td>Sleep stage ?</td>\n",
       "      <td>13.238281</td>\n",
       "      <td>42330.761719</td>\n",
       "      <td>22_23233.tsv</td>\n",
       "      <td>1162</td>\n",
       "      <td>True</td>\n",
       "    </tr>\n",
       "    <tr>\n",
       "      <th>4</th>\n",
       "      <td>Sleep stage ?</td>\n",
       "      <td>23.597656</td>\n",
       "      <td>37500.402344</td>\n",
       "      <td>25_10579.tsv</td>\n",
       "      <td>1376</td>\n",
       "      <td>True</td>\n",
       "    </tr>\n",
       "    <tr>\n",
       "      <th>5</th>\n",
       "      <td>Sleep stage ?</td>\n",
       "      <td>9.324219</td>\n",
       "      <td>46350.675781</td>\n",
       "      <td>25_18085.tsv</td>\n",
       "      <td>1564</td>\n",
       "      <td>True</td>\n",
       "    </tr>\n",
       "    <tr>\n",
       "      <th>6</th>\n",
       "      <td>Sleep stage ?</td>\n",
       "      <td>19.351562</td>\n",
       "      <td>38460.648438</td>\n",
       "      <td>28_15280.tsv</td>\n",
       "      <td>1152</td>\n",
       "      <td>True</td>\n",
       "    </tr>\n",
       "    <tr>\n",
       "      <th>7</th>\n",
       "      <td>Sleep stage ?</td>\n",
       "      <td>17.425781</td>\n",
       "      <td>40350.574219</td>\n",
       "      <td>31_4429.tsv</td>\n",
       "      <td>1248</td>\n",
       "      <td>True</td>\n",
       "    </tr>\n",
       "    <tr>\n",
       "      <th>8</th>\n",
       "      <td>Sleep stage ?</td>\n",
       "      <td>23.683594</td>\n",
       "      <td>35820.316406</td>\n",
       "      <td>37_14779.tsv</td>\n",
       "      <td>1193</td>\n",
       "      <td>True</td>\n",
       "    </tr>\n",
       "    <tr>\n",
       "      <th>9</th>\n",
       "      <td>Sleep stage ?</td>\n",
       "      <td>19.253906</td>\n",
       "      <td>40620.746094</td>\n",
       "      <td>40_14503.tsv</td>\n",
       "      <td>1238</td>\n",
       "      <td>True</td>\n",
       "    </tr>\n",
       "    <tr>\n",
       "      <th>10</th>\n",
       "      <td>Sleep stage ?</td>\n",
       "      <td>27.300781</td>\n",
       "      <td>37140.699219</td>\n",
       "      <td>46_11305.tsv</td>\n",
       "      <td>1221</td>\n",
       "      <td>False</td>\n",
       "    </tr>\n",
       "    <tr>\n",
       "      <th>11</th>\n",
       "      <td>Sleep stage ?</td>\n",
       "      <td>29.074219</td>\n",
       "      <td>33750.925781</td>\n",
       "      <td>55_6112.tsv</td>\n",
       "      <td>1135</td>\n",
       "      <td>True</td>\n",
       "    </tr>\n",
       "    <tr>\n",
       "      <th>12</th>\n",
       "      <td>Sleep stage ?</td>\n",
       "      <td>23.359375</td>\n",
       "      <td>44340.640625</td>\n",
       "      <td>61_19477.tsv</td>\n",
       "      <td>1458</td>\n",
       "      <td>True</td>\n",
       "    </tr>\n",
       "    <tr>\n",
       "      <th>13</th>\n",
       "      <td>Sleep stage ?</td>\n",
       "      <td>5.335938</td>\n",
       "      <td>31710.664062</td>\n",
       "      <td>64_14908.tsv</td>\n",
       "      <td>1374</td>\n",
       "      <td>True</td>\n",
       "    </tr>\n",
       "    <tr>\n",
       "      <th>14</th>\n",
       "      <td>Sleep stage ?</td>\n",
       "      <td>20.000000</td>\n",
       "      <td>37260.000000</td>\n",
       "      <td>64_25396.tsv</td>\n",
       "      <td>1141</td>\n",
       "      <td>True</td>\n",
       "    </tr>\n",
       "    <tr>\n",
       "      <th>15</th>\n",
       "      <td>Sleep stage ?</td>\n",
       "      <td>11.445312</td>\n",
       "      <td>40260.554688</td>\n",
       "      <td>67_5998.tsv</td>\n",
       "      <td>1679</td>\n",
       "      <td>True</td>\n",
       "    </tr>\n",
       "    <tr>\n",
       "      <th>16</th>\n",
       "      <td>Sleep stage ?</td>\n",
       "      <td>27.675781</td>\n",
       "      <td>36600.324219</td>\n",
       "      <td>70_20743.tsv</td>\n",
       "      <td>2099</td>\n",
       "      <td>False</td>\n",
       "    </tr>\n",
       "    <tr>\n",
       "      <th>17</th>\n",
       "      <td>Sleep stage ?</td>\n",
       "      <td>3.019531</td>\n",
       "      <td>40980.980469</td>\n",
       "      <td>7_12595.tsv</td>\n",
       "      <td>1453</td>\n",
       "      <td>True</td>\n",
       "    </tr>\n",
       "    <tr>\n",
       "      <th>18</th>\n",
       "      <td>Sleep stage ?</td>\n",
       "      <td>21.160156</td>\n",
       "      <td>32850.839844</td>\n",
       "      <td>82_20809.tsv</td>\n",
       "      <td>1040</td>\n",
       "      <td>True</td>\n",
       "    </tr>\n",
       "  </tbody>\n",
       "</table>\n",
       "</div>"
      ],
      "text/plain": [
       "            stage        dur         onset           rec   ind    end\n",
       "0   Sleep stage ?  17.539062  40530.460938  10_22339.tsv  1222   True\n",
       "1   Sleep stage ?  17.132812  36270.867188  16_24241.tsv  1158   True\n",
       "2   Sleep stage ?  25.738281  34650.261719    1_4789.tsv  1134   True\n",
       "3   Sleep stage ?  13.238281  42330.761719  22_23233.tsv  1162   True\n",
       "4   Sleep stage ?  23.597656  37500.402344  25_10579.tsv  1376   True\n",
       "5   Sleep stage ?   9.324219  46350.675781  25_18085.tsv  1564   True\n",
       "6   Sleep stage ?  19.351562  38460.648438  28_15280.tsv  1152   True\n",
       "7   Sleep stage ?  17.425781  40350.574219   31_4429.tsv  1248   True\n",
       "8   Sleep stage ?  23.683594  35820.316406  37_14779.tsv  1193   True\n",
       "9   Sleep stage ?  19.253906  40620.746094  40_14503.tsv  1238   True\n",
       "10  Sleep stage ?  27.300781  37140.699219  46_11305.tsv  1221  False\n",
       "11  Sleep stage ?  29.074219  33750.925781   55_6112.tsv  1135   True\n",
       "12  Sleep stage ?  23.359375  44340.640625  61_19477.tsv  1458   True\n",
       "13  Sleep stage ?   5.335938  31710.664062  64_14908.tsv  1374   True\n",
       "14  Sleep stage ?  20.000000  37260.000000  64_25396.tsv  1141   True\n",
       "15  Sleep stage ?  11.445312  40260.554688   67_5998.tsv  1679   True\n",
       "16  Sleep stage ?  27.675781  36600.324219  70_20743.tsv  2099  False\n",
       "17  Sleep stage ?   3.019531  40980.980469   7_12595.tsv  1453   True\n",
       "18  Sleep stage ?  21.160156  32850.839844  82_20809.tsv  1040   True"
      ]
     },
     "execution_count": 51,
     "metadata": {},
     "output_type": "execute_result"
    }
   ],
   "source": [
    "shortdf = compiled_df[compiled_df.dur!=30].reset_index(drop=True)\n",
    "shortdf"
   ]
  },
  {
   "attachments": {},
   "cell_type": "markdown",
   "metadata": {},
   "source": [
    "* There are a total of 19 instances for which the duration of a sleep event is not 30 seconds.\n",
    "* Of those 19, 17 are because the recroding ended before a full 30 seconds.\n",
    "* All the stages are unidentified ('Sleep stage ?')\n",
    "\n",
    "We keep these in mind and move on to the edf files."
   ]
  },
  {
   "attachments": {},
   "cell_type": "markdown",
   "metadata": {},
   "source": [
    "## EDF files\n",
    "\n",
    "EDF stands for 'European Data Format'. It is commonly used to store biosignals. More information can be found [here](https://www.edfplus.info/). The raw signals of the PSG recordings are stored in EDF format and we use the [MNE library](https://mne.tools/stable/index.html) to handle them."
   ]
  },
  {
   "cell_type": "markdown",
   "metadata": {},
   "source": []
  }
 ],
 "metadata": {
  "kernelspec": {
   "display_name": "Python 3 (ipykernel)",
   "language": "python",
   "name": "python3"
  },
  "language_info": {
   "codemirror_mode": {
    "name": "ipython",
    "version": 3
   },
   "file_extension": ".py",
   "mimetype": "text/x-python",
   "name": "python",
   "nbconvert_exporter": "python",
   "pygments_lexer": "ipython3",
   "version": "3.9.13"
  },
  "orig_nbformat": 4
 },
 "nbformat": 4,
 "nbformat_minor": 2
}
